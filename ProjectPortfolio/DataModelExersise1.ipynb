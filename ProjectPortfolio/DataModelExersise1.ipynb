{
 "cells": [
  {
   "cell_type": "code",
   "execution_count": null,
   "id": "4172e994-1120-41d6-9e6b-980811600c8e",
   "metadata": {},
   "outputs": [],
   "source": [
    "#  export PATH=$PATH:/Library/PostgreSQL/15/bin/"
   ]
  },
  {
   "cell_type": "code",
   "execution_count": 3,
   "id": "9275f62f-308f-4128-9247-614942f8fcf8",
   "metadata": {},
   "outputs": [
    {
     "name": "stdout",
     "output_type": "stream",
     "text": [
      "Requirement already satisfied: psycopg2 in /opt/homebrew/Cellar/jupyterlab/4.0.5_1/libexec/lib/python3.11/site-packages (2.9.7)\n",
      "Note: you may need to restart the kernel to use updated packages.\n"
     ]
    }
   ],
   "source": [
    "pip install psycopg2"
   ]
  },
  {
   "cell_type": "code",
   "execution_count": 4,
   "id": "0c78d486-3195-496e-a3ab-45db1dc02556",
   "metadata": {},
   "outputs": [],
   "source": [
    "import psycopg2"
   ]
  },
  {
   "cell_type": "code",
   "execution_count": 9,
   "id": "318892e4-8500-466a-b2c4-a854c2961d8e",
   "metadata": {},
   "outputs": [],
   "source": [
    "try:\n",
    "    conn = psycopg2.connect(\"host = localhost dbname=postgres user=postgres password=toortoor\")\n",
    "except psycopg2.Error as e:\n",
    "    print(\"Could not make a Connection to Database\")\n",
    "    print(e)"
   ]
  },
  {
   "cell_type": "code",
   "execution_count": 10,
   "id": "5c16b717-562c-49b8-a83b-df5ef6e65776",
   "metadata": {},
   "outputs": [],
   "source": [
    "try:\n",
    "    cur = conn.cursor()\n",
    "except psycopg2.Error as e:\n",
    "    print(\"Could not get cursor to Database\")\n",
    "    print(e)"
   ]
  },
  {
   "cell_type": "code",
   "execution_count": 11,
   "id": "2e059aa9-f770-41ed-937e-3478d9d88169",
   "metadata": {},
   "outputs": [],
   "source": [
    "conn.set_session(autocommit=True)"
   ]
  },
  {
   "cell_type": "code",
   "execution_count": 13,
   "id": "38d0d9d0-bb13-4128-bd74-0614ca5b2733",
   "metadata": {},
   "outputs": [],
   "source": [
    "try:\n",
    "    cur.execute(\"create database myfirstdb\")\n",
    "except psycopg2.Error as e:\n",
    "    print(e)"
   ]
  },
  {
   "cell_type": "code",
   "execution_count": null,
   "id": "5f9583d8-5f46-46f5-8f2f-dd324585d391",
   "metadata": {},
   "outputs": [],
   "source": []
  },
  {
   "cell_type": "code",
   "execution_count": 15,
   "id": "e31a51bb-d003-431e-a979-7de86d43c742",
   "metadata": {},
   "outputs": [],
   "source": [
    "try:\n",
    "    conn.close()\n",
    "except psycopg2.Error as e:\n",
    "    print(e)\n",
    "\n",
    "try:\n",
    "    conn = psycopg2.connect(\"host = localhost dbname=myfirstdb user=postgres password=toortoor\")\n",
    "except psycopg2.Error as e:\n",
    "    print(\"Could not make a Connection to Database\")\n",
    "    print(e)\n",
    "\n",
    "try:\n",
    "    cur = conn.cursor()\n",
    "except psycopg2.Error as e:\n",
    "    print(\"Could not get cursor to Database\")\n",
    "    print(e)\n",
    "\n",
    "conn.set_session(autocommit=True)"
   ]
  },
  {
   "cell_type": "code",
   "execution_count": 17,
   "id": "340f8294-8696-4569-941b-5ab5b2b1d599",
   "metadata": {},
   "outputs": [],
   "source": [
    "try:\n",
    "    cur.execute(\"CREATE TABLE IF NOT EXISTS students(student_id INT,\\\n",
    "    name VARCHAR, age INT, gender VARCHAR, subject VARCHAR, marks INT);\")\n",
    "except psycopg2.Error as e:\n",
    "    print(\"Issue Creating Table\")\n",
    "    print(e)"
   ]
  },
  {
   "cell_type": "code",
   "execution_count": 31,
   "id": "231c0539-2791-422b-b0d0-ca8a4a80d6ff",
   "metadata": {},
   "outputs": [],
   "source": [
    "try:\n",
    "    cur.execute(\"INSERT INTO students (student_id, name, age, gender, subject, marks) \\\n",
    "    VALUES (%s, %s, %s, %s, %s, %s)\", (1, \"Raj\", 23, \"Male\", \"Python\", 85))\n",
    "except psycopg2.Error as e:\n",
    "    print(\"Error Inserting Data\")\n",
    "    print(e)\n",
    "\n",
    "try:\n",
    "    cur.execute(\"INSERT INTO students (student_id, name, age, gender, subject, marks) \\\n",
    "    VALUES (%s, %s, %s, %s, %s, %s)\", (2, \"Priya\", 22, \"Female\", \"Python\", 86))\n",
    "except psycopg2.Error as e:\n",
    "    print(\"Error Inserting Data\")\n",
    "    print(e)\n",
    "    "
   ]
  },
  {
   "cell_type": "code",
   "execution_count": 32,
   "id": "e3d5cbe2-df44-4834-b380-0e82f52a4237",
   "metadata": {},
   "outputs": [
    {
     "name": "stdout",
     "output_type": "stream",
     "text": [
      "(1, 'Raj', 23, 'Male', 'Python', 85)\n",
      "(2, 'Priya', 22, 'Female', 'Python', 86)\n"
     ]
    }
   ],
   "source": [
    "try:\n",
    "    cur.execute(\"SELECT * FROM students;\")\n",
    "except psycopg2.Error as e:\n",
    "    print(\"Error Inserting Data\")\n",
    "    print(e)\n",
    "\n",
    "row = cur.fetchone()\n",
    "while row:\n",
    "    print(row)\n",
    "    row = cur.fetchone()"
   ]
  },
  {
   "cell_type": "code",
   "execution_count": 29,
   "id": "a2a424f2-5d09-4ca9-b627-647281cb68a1",
   "metadata": {},
   "outputs": [],
   "source": [
    "try:\n",
    "    cur.execute(\"delete FROM students;\")\n",
    "except psycopg2.Error as e:\n",
    "    print(\"Error Inserting Data\")\n",
    "    print(e)"
   ]
  }
 ],
 "metadata": {
  "kernelspec": {
   "display_name": "Python 3 (ipykernel)",
   "language": "python",
   "name": "python3"
  },
  "language_info": {
   "codemirror_mode": {
    "name": "ipython",
    "version": 3
   },
   "file_extension": ".py",
   "mimetype": "text/x-python",
   "name": "python",
   "nbconvert_exporter": "python",
   "pygments_lexer": "ipython3",
   "version": "3.11.5"
  }
 },
 "nbformat": 4,
 "nbformat_minor": 5
}
