{
 "cells": [
  {
   "cell_type": "code",
   "execution_count": 2,
   "metadata": {},
   "outputs": [
    {
     "name": "stdout",
     "output_type": "stream",
     "text": [
      "Requirement already satisfied: pyspark in /Users/kulyashdahiya/env/myenv/lib/python3.8/site-packages (3.5.2)\n",
      "Requirement already satisfied: py4j==0.10.9.7 in /Users/kulyashdahiya/env/myenv/lib/python3.8/site-packages (from pyspark) (0.10.9.7)\n",
      "Note: you may need to restart the kernel to use updated packages.\n"
     ]
    }
   ],
   "source": [
    "pip install pyspark"
   ]
  },
  {
   "cell_type": "code",
   "execution_count": 1,
   "metadata": {},
   "outputs": [
    {
     "name": "stderr",
     "output_type": "stream",
     "text": [
      "24/09/01 18:52:27 WARN Utils: Your hostname, Kulyashs-MacBook-Pro.local resolves to a loopback address: 127.0.0.1; using 192.168.29.204 instead (on interface en0)\n",
      "24/09/01 18:52:27 WARN Utils: Set SPARK_LOCAL_IP if you need to bind to another address\n",
      "Setting default log level to \"WARN\".\n",
      "To adjust logging level use sc.setLogLevel(newLevel). For SparkR, use setLogLevel(newLevel).\n",
      "24/09/01 18:52:27 WARN NativeCodeLoader: Unable to load native-hadoop library for your platform... using builtin-java classes where applicable\n"
     ]
    },
    {
     "name": "stdout",
     "output_type": "stream",
     "text": [
      "+---+-----+\n",
      "| id| name|\n",
      "+---+-----+\n",
      "|  1|Alice|\n",
      "|  2|  Bob|\n",
      "+---+-----+\n",
      "\n"
     ]
    },
    {
     "name": "stderr",
     "output_type": "stream",
     "text": [
      "24/09/01 18:52:40 WARN GarbageCollectionMetrics: To enable non-built-in garbage collector(s) List(G1 Concurrent GC), users should configure it(them) to spark.eventLog.gcMetrics.youngGenerationGarbageCollectors or spark.eventLog.gcMetrics.oldGenerationGarbageCollectors\n"
     ]
    }
   ],
   "source": [
    "from pyspark.sql import SparkSession\n",
    "\n",
    "# Initialize a Spark session\n",
    "spark = SparkSession.builder.appName(\"TestApp\").getOrCreate()\n",
    "\n",
    "# Create a simple DataFrame\n",
    "df = spark.createDataFrame([(1, \"Alice\"), (2, \"Bob\")], [\"id\", \"name\"])\n",
    "\n",
    "# Show the DataFrame\n",
    "df.show()\n"
   ]
  },
  {
   "cell_type": "code",
   "execution_count": 17,
   "metadata": {},
   "outputs": [
    {
     "name": "stdout",
     "output_type": "stream",
     "text": [
      "Project Gutenberg’s\n",
      "Alice’s Adventures in Wonderland\n",
      "by Lewis Carroll\n",
      "This eBook is for the use\n",
      "of anyone anywhere\n"
     ]
    }
   ],
   "source": [
    "# Create RDD from Text File\n",
    "from pyspark.sql import SparkSession\n",
    "spark = SparkSession.builder.appName('SparkByExamples.com').getOrCreate()\n",
    "rdd = spark.sparkContext.textFile(\"/Users/kulyashdahiya/Study/DataEngineering/PysparkLearning/Basics/test.txt\")\n",
    "\n",
    "count = 0\n",
    "for element in rdd.collect():\n",
    "    print(element)\n",
    "    count += 1\n",
    "    if count == 5:\n",
    "        break"
   ]
  },
  {
   "cell_type": "code",
   "execution_count": 18,
   "metadata": {},
   "outputs": [
    {
     "name": "stdout",
     "output_type": "stream",
     "text": [
      "Project\n",
      "Gutenberg’s\n",
      "Alice’s\n",
      "Adventures\n",
      "in\n"
     ]
    }
   ],
   "source": [
    "# Using flatMap()\n",
    "rdd2=rdd.flatMap(lambda x: x.split(\" \"))\n",
    "\n",
    "count = 0\n",
    "for element in rdd2.collect():\n",
    "    print(element)\n",
    "    count += 1\n",
    "    if count == 5:\n",
    "        break\n"
   ]
  },
  {
   "cell_type": "code",
   "execution_count": 15,
   "metadata": {},
   "outputs": [
    {
     "name": "stdout",
     "output_type": "stream",
     "text": [
      "('Project', 1)\n",
      "('Gutenberg’s', 1)\n",
      "('Alice’s', 1)\n",
      "('Adventures', 1)\n",
      "('in', 1)\n"
     ]
    }
   ],
   "source": [
    "# Using map()\n",
    "rdd3=rdd2.map(lambda x: (x,1))\n",
    "\n",
    "count = 0\n",
    "for element in rdd3.collect():\n",
    "    print(element)\n",
    "    count += 1\n",
    "    if count == 5:\n",
    "        break"
   ]
  },
  {
   "cell_type": "code",
   "execution_count": 19,
   "metadata": {},
   "outputs": [],
   "source": [
    "# Reduce By Key\n",
    "rdd4 = rdd3.reduceByKey(lambda a, b: a+b)"
   ]
  },
  {
   "cell_type": "code",
   "execution_count": 20,
   "metadata": {},
   "outputs": [
    {
     "name": "stdout",
     "output_type": "stream",
     "text": [
      "('Project', 9)\n",
      "('Gutenberg’s', 9)\n",
      "('Alice’s', 18)\n",
      "('in', 18)\n",
      "('Lewis', 18)\n"
     ]
    }
   ],
   "source": [
    "count = 0\n",
    "for element in rdd4.collect():\n",
    "    print(element)\n",
    "    count += 1\n",
    "    if count == 5:\n",
    "        break"
   ]
  },
  {
   "cell_type": "code",
   "execution_count": 32,
   "metadata": {},
   "outputs": [],
   "source": [
    "# Sort By Key\n",
    "rdd5 = rdd4.map(lambda x: (x[1],x[0])).sortByKey()\n",
    "\n",
    "# filter()\n",
    "rdd6 = rdd5.filter(lambda x : 'a' in x[1])"
   ]
  },
  {
   "cell_type": "code",
   "execution_count": 33,
   "metadata": {},
   "outputs": [
    {
     "name": "stdout",
     "output_type": "stream",
     "text": [
      "(18, 'Carroll')\n",
      "(18, 'Wonderland')\n",
      "(27, 'anyone')\n",
      "(27, 'anywhere')\n",
      "(27, 'at')\n"
     ]
    }
   ],
   "source": [
    "count = 0\n",
    "for element in rdd6.collect():\n",
    "    print(element)\n",
    "    count += 1\n",
    "    if count == 5:\n",
    "        break"
   ]
  },
  {
   "cell_type": "markdown",
   "metadata": {},
   "source": [
    "Complete at Once :"
   ]
  },
  {
   "cell_type": "code",
   "execution_count": 35,
   "metadata": {},
   "outputs": [],
   "source": [
    "rdd = spark.sparkContext.textFile(\"/Users/kulyashdahiya/Study/DataEngineering/PysparkLearning/Basics/test.txt\")\n",
    "\n",
    "#Flatmap    \n",
    "rdd2=rdd.flatMap(lambda x: x.split(\" \"))\n",
    "\n",
    "#map\n",
    "rdd3=rdd2.map(lambda x: (x,1))\n",
    "\n",
    "\n",
    "#reduceByKey\n",
    "rdd4=rdd3.reduceByKey(lambda a,b: a+b)\n",
    "\n",
    "#map\n",
    "rdd5 = rdd4.map(lambda x: (x[1],x[0])).sortByKey()\n",
    "\n",
    "#filter\n",
    "# rdd6 = rdd5.filter(lambda x : 'a' in x[1])\n"
   ]
  },
  {
   "cell_type": "code",
   "execution_count": 37,
   "metadata": {},
   "outputs": [
    {
     "name": "stdout",
     "output_type": "stream",
     "text": [
      "(9, 'Project')\n",
      "(9, 'Gutenberg’s')\n",
      "(18, 'Alice’s')\n",
      "(18, 'in')\n",
      "(18, 'Lewis')\n",
      "(18, 'Carroll')\n",
      "(18, 'Adventures')\n",
      "(18, 'Wonderland')\n",
      "(18, 'by')\n",
      "(27, 'is')\n",
      "(27, 'use')\n",
      "(27, 'of')\n",
      "(27, 'anyone')\n",
      "(27, 'anywhere')\n",
      "(27, 'at')\n",
      "(27, 'no')\n",
      "(27, 'This')\n",
      "(27, 'eBook')\n",
      "(27, 'for')\n",
      "(27, 'the')\n",
      "(27, 'cost')\n",
      "(27, 'and')\n",
      "(27, 'with')\n"
     ]
    }
   ],
   "source": [
    "for element in rdd5.collect():\n",
    "    print(element)"
   ]
  }
 ],
 "metadata": {
  "kernelspec": {
   "display_name": "myenv",
   "language": "python",
   "name": "python3"
  },
  "language_info": {
   "codemirror_mode": {
    "name": "ipython",
    "version": 3
   },
   "file_extension": ".py",
   "mimetype": "text/x-python",
   "name": "python",
   "nbconvert_exporter": "python",
   "pygments_lexer": "ipython3",
   "version": "3.8.19"
  }
 },
 "nbformat": 4,
 "nbformat_minor": 2
}
