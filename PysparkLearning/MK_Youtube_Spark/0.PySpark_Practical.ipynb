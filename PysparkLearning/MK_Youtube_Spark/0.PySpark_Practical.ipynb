{
 "cells": [
  {
   "cell_type": "code",
   "id": "initial_id",
   "metadata": {
    "collapsed": true,
    "ExecuteTime": {
     "end_time": "2024-12-12T11:18:14.562317Z",
     "start_time": "2024-12-12T11:18:13.245463Z"
    }
   },
   "source": [
    "import findspark\n",
    "findspark.init()\n",
    "\n",
    "from pyspark.sql import SparkSession\n",
    "from pyspark.sql.functions import *\n",
    "from pyspark.sql.types import *\n",
    "from pyspark.sql.window import *\n",
    "\n",
    "spark = SparkSession.builder.master(\"local[4]\").appName(\"LeadLag\").getOrCreate()"
   ],
   "outputs": [
    {
     "name": "stderr",
     "output_type": "stream",
     "text": [
      "Setting default log level to \"WARN\".\n",
      "To adjust logging level use sc.setLogLevel(newLevel). For SparkR, use setLogLevel(newLevel).\n",
      "24/12/12 16:48:14 WARN NativeCodeLoader: Unable to load native-hadoop library for your platform... using builtin-java classes where applicable\n"
     ]
    }
   ],
   "execution_count": 3
  },
  {
   "metadata": {
    "ExecuteTime": {
     "end_time": "2024-12-12T11:23:47.713541Z",
     "start_time": "2024-12-12T11:23:47.574718Z"
    }
   },
   "cell_type": "code",
   "source": [
    "emp_data = [    (1,'manish',50000,'IT','m'),\n",
    "            (2,'vikash',60000,'sales','m'),\n",
    "            (3,'raushan',70000,'marketing','m'),\n",
    "            (4,'mukesh',80000,'IT','m'),\n",
    "            (5,'priti',90000,'sales','f'),\n",
    "            (6,'nikita',45000,'marketing','f'),\n",
    "            (7,'ragini',55000,'marketing','f'),\n",
    "            (8,'rashi',100000,'IT','f'),\n",
    "            (9,'aditya',65000,'IT','m'),\n",
    "            (10,'rahul',50000,'marketing','m'),\n",
    "            (11,'rakhi',50000,'IT','f'),\n",
    "            (12,'akhilesh',90000,'sales','m')   ]\n",
    "\n",
    "emp_schema=['id','name','salary','dept','gender']\n",
    "\n",
    "emp_df = spark.createDataFrame(data=emp_data,schema=emp_schema)\n",
    "emp_df = emp_df.select('id','name','salary','gender','dept')\n",
    "emp_df.show()"
   ],
   "id": "12f86cf4b7ffa1ea",
   "outputs": [
    {
     "name": "stdout",
     "output_type": "stream",
     "text": [
      "+---+--------+------+------+---------+\n",
      "| id|    name|salary|gender|     dept|\n",
      "+---+--------+------+------+---------+\n",
      "|  1|  manish| 50000|     m|       IT|\n",
      "|  2|  vikash| 60000|     m|    sales|\n",
      "|  3| raushan| 70000|     m|marketing|\n",
      "|  4|  mukesh| 80000|     m|       IT|\n",
      "|  5|   priti| 90000|     f|    sales|\n",
      "|  6|  nikita| 45000|     f|marketing|\n",
      "|  7|  ragini| 55000|     f|marketing|\n",
      "|  8|   rashi|100000|     f|       IT|\n",
      "|  9|  aditya| 65000|     m|       IT|\n",
      "| 10|   rahul| 50000|     m|marketing|\n",
      "| 11|   rakhi| 50000|     f|       IT|\n",
      "| 12|akhilesh| 90000|     m|    sales|\n",
      "+---+--------+------+------+---------+\n",
      "\n"
     ]
    }
   ],
   "execution_count": 8
  },
  {
   "metadata": {
    "ExecuteTime": {
     "end_time": "2024-12-12T11:28:27.611719Z",
     "start_time": "2024-12-12T11:28:27.467240Z"
    }
   },
   "cell_type": "code",
   "source": [
    "# IF ELSE -- When Otherwise\n",
    "\n",
    "emp_df.withColumn(\n",
    "      \"salary_wise\",\n",
    "      when(col(\"salary\") < 50000, \"Low\")\n",
    "      .when( (col(\"salary\") >=50000) & (col(\"salary\") < 80000), \"Medium\")\n",
    "      .otherwise(\"High\")\n",
    ").show()"
   ],
   "id": "60f3a378348708ed",
   "outputs": [
    {
     "name": "stdout",
     "output_type": "stream",
     "text": [
      "+---+--------+------+------+---------+-----------+\n",
      "| id|    name|salary|gender|     dept|salary_wise|\n",
      "+---+--------+------+------+---------+-----------+\n",
      "|  1|  manish| 50000|     m|       IT|     Medium|\n",
      "|  2|  vikash| 60000|     m|    sales|     Medium|\n",
      "|  3| raushan| 70000|     m|marketing|     Medium|\n",
      "|  4|  mukesh| 80000|     m|       IT|       High|\n",
      "|  5|   priti| 90000|     f|    sales|       High|\n",
      "|  6|  nikita| 45000|     f|marketing|        Low|\n",
      "|  7|  ragini| 55000|     f|marketing|     Medium|\n",
      "|  8|   rashi|100000|     f|       IT|       High|\n",
      "|  9|  aditya| 65000|     m|       IT|     Medium|\n",
      "| 10|   rahul| 50000|     m|marketing|     Medium|\n",
      "| 11|   rakhi| 50000|     f|       IT|     Medium|\n",
      "| 12|akhilesh| 90000|     m|    sales|       High|\n",
      "+---+--------+------+------+---------+-----------+\n",
      "\n"
     ]
    }
   ],
   "execution_count": 14
  }
 ],
 "metadata": {
  "kernelspec": {
   "display_name": "Python 3",
   "language": "python",
   "name": "python3"
  },
  "language_info": {
   "codemirror_mode": {
    "name": "ipython",
    "version": 2
   },
   "file_extension": ".py",
   "mimetype": "text/x-python",
   "name": "python",
   "nbconvert_exporter": "python",
   "pygments_lexer": "ipython2",
   "version": "2.7.6"
  }
 },
 "nbformat": 4,
 "nbformat_minor": 5
}
