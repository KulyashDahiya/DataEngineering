{
 "cells": [
  {
   "cell_type": "code",
   "id": "initial_id",
   "metadata": {
    "collapsed": true,
    "ExecuteTime": {
     "end_time": "2024-12-12T10:22:58.547068Z",
     "start_time": "2024-12-12T10:22:57.040896Z"
    }
   },
   "source": [
    "import findspark\n",
    "findspark.init()\n",
    "\n",
    "from pyspark.sql import SparkSession\n",
    "from pyspark.sql.functions import *\n",
    "from pyspark.sql.types import *\n",
    "from pyspark.sql.window import *\n",
    "\n",
    "spark = SparkSession.builder.master(\"local[4]\").appName(\"LeadLag\").getOrCreate()"
   ],
   "outputs": [
    {
     "name": "stderr",
     "output_type": "stream",
     "text": [
      "Setting default log level to \"WARN\".\n",
      "To adjust logging level use sc.setLogLevel(newLevel). For SparkR, use setLogLevel(newLevel).\n",
      "24/12/12 15:52:58 WARN NativeCodeLoader: Unable to load native-hadoop library for your platform... using builtin-java classes where applicable\n"
     ]
    }
   ],
   "execution_count": 3
  },
  {
   "metadata": {
    "ExecuteTime": {
     "end_time": "2024-12-12T10:34:27.903799Z",
     "start_time": "2024-12-12T10:34:27.732436Z"
    }
   },
   "cell_type": "code",
   "source": [
    "product_data = [\n",
    "            (1,\"iphone\",\"01-01-2023\",1500000),\n",
    "            (2,\"samsung\",\"01-01-2023\",1100000),\n",
    "            (3,\"oneplus\",\"01-01-2023\",1100000),\n",
    "            (1,\"iphone\",\"01-02-2023\",1300000),\n",
    "            (2,\"samsung\",\"01-02-2023\",1120000),\n",
    "            (3,\"oneplus\",\"01-02-2023\",1120000),\n",
    "            (1,\"iphone\",\"01-03-2023\",1600000),\n",
    "            (2,\"samsung\",\"01-03-2023\",1080000),\n",
    "            (3,\"oneplus\",\"01-03-2023\",1160000),\n",
    "            (1,\"iphone\",\"01-04-2023\",1700000),\n",
    "            (2,\"samsung\",\"01-04-2023\",1800000),\n",
    "            (3,\"oneplus\",\"01-04-2023\",1170000),\n",
    "            (1,\"iphone\",\"01-05-2023\",1200000),\n",
    "            (2,\"samsung\",\"01-05-2023\",980000),\n",
    "            (3,\"oneplus\",\"01-05-2023\",1175000),\n",
    "            (1,\"iphone\",\"01-06-2023\",1100000),\n",
    "            (2,\"samsung\",\"01-06-2023\",1100000),\n",
    "            (3,\"oneplus\",\"01-06-2023\",1200000)\n",
    "            ]\n",
    "\n",
    "product_schema = ['product_id', 'product_name', 'sales_date', 'sales']\n",
    "\n",
    "product_df = spark.createDataFrame(product_data, product_schema)\n",
    "product_df = product_df.withColumn(\"sales_date\", to_date(col(\"sales_date\"), \"dd-MM-yyyy\"))\n",
    "product_df.show()"
   ],
   "id": "c22efc6d4b38cd19",
   "outputs": [
    {
     "name": "stdout",
     "output_type": "stream",
     "text": [
      "+----------+------------+----------+-------+\n",
      "|product_id|product_name|sales_date|  sales|\n",
      "+----------+------------+----------+-------+\n",
      "|         1|      iphone|2023-01-01|1500000|\n",
      "|         2|     samsung|2023-01-01|1100000|\n",
      "|         3|     oneplus|2023-01-01|1100000|\n",
      "|         1|      iphone|2023-02-01|1300000|\n",
      "|         2|     samsung|2023-02-01|1120000|\n",
      "|         3|     oneplus|2023-02-01|1120000|\n",
      "|         1|      iphone|2023-03-01|1600000|\n",
      "|         2|     samsung|2023-03-01|1080000|\n",
      "|         3|     oneplus|2023-03-01|1160000|\n",
      "|         1|      iphone|2023-04-01|1700000|\n",
      "|         2|     samsung|2023-04-01|1800000|\n",
      "|         3|     oneplus|2023-04-01|1170000|\n",
      "|         1|      iphone|2023-05-01|1200000|\n",
      "|         2|     samsung|2023-05-01| 980000|\n",
      "|         3|     oneplus|2023-05-01|1175000|\n",
      "|         1|      iphone|2023-06-01|1100000|\n",
      "|         2|     samsung|2023-06-01|1100000|\n",
      "|         3|     oneplus|2023-06-01|1200000|\n",
      "+----------+------------+----------+-------+\n",
      "\n"
     ]
    }
   ],
   "execution_count": 9
  },
  {
   "metadata": {
    "ExecuteTime": {
     "end_time": "2024-12-12T10:54:46.206481Z",
     "start_time": "2024-12-12T10:54:46.096326Z"
    }
   },
   "cell_type": "code",
   "source": [
    "# Percentage of Sales Each Month based on last 6 Months sales\n",
    "\n",
    "window_spec = Window.partitionBy(col(\"product_name\"))\n",
    "\n",
    "df = product_df.withColumn(\"Total Sales in 6 Month\", sum(col(\"sales\")).over(window_spec) )\\\n",
    "                .withColumn(\"Percnt this month\", col(\"sales\")*100 / col(\"Total Sales in 6 Month\"))\n",
    "df.show()"
   ],
   "id": "161678be914adad8",
   "outputs": [
    {
     "name": "stdout",
     "output_type": "stream",
     "text": [
      "+----------+------------+----------+-------+----------------------+------------------+\n",
      "|product_id|product_name|sales_date|  sales|Total Sales in 6 Month| Percnt this month|\n",
      "+----------+------------+----------+-------+----------------------+------------------+\n",
      "|         1|      iphone|2023-01-01|1500000|               8400000|17.857142857142858|\n",
      "|         1|      iphone|2023-02-01|1300000|               8400000|15.476190476190476|\n",
      "|         1|      iphone|2023-03-01|1600000|               8400000|19.047619047619047|\n",
      "|         1|      iphone|2023-04-01|1700000|               8400000|20.238095238095237|\n",
      "|         1|      iphone|2023-05-01|1200000|               8400000|14.285714285714286|\n",
      "|         1|      iphone|2023-06-01|1100000|               8400000|13.095238095238095|\n",
      "|         3|     oneplus|2023-01-01|1100000|               6925000|15.884476534296029|\n",
      "|         3|     oneplus|2023-02-01|1120000|               6925000|16.173285198555956|\n",
      "|         3|     oneplus|2023-03-01|1160000|               6925000|16.750902527075812|\n",
      "|         3|     oneplus|2023-04-01|1170000|               6925000|16.895306859205775|\n",
      "|         3|     oneplus|2023-05-01|1175000|               6925000|16.967509025270758|\n",
      "|         3|     oneplus|2023-06-01|1200000|               6925000| 17.32851985559567|\n",
      "|         2|     samsung|2023-01-01|1100000|               7180000| 15.32033426183844|\n",
      "|         2|     samsung|2023-02-01|1120000|               7180000|15.598885793871867|\n",
      "|         2|     samsung|2023-03-01|1080000|               7180000|15.041782729805014|\n",
      "|         2|     samsung|2023-04-01|1800000|               7180000|25.069637883008358|\n",
      "|         2|     samsung|2023-05-01| 980000|               7180000|13.649025069637883|\n",
      "|         2|     samsung|2023-06-01|1100000|               7180000| 15.32033426183844|\n",
      "+----------+------------+----------+-------+----------------------+------------------+\n",
      "\n"
     ]
    }
   ],
   "execution_count": 34
  },
  {
   "metadata": {
    "ExecuteTime": {
     "end_time": "2024-12-12T11:08:44.776987Z",
     "start_time": "2024-12-12T11:08:44.650395Z"
    }
   },
   "cell_type": "code",
   "source": [
    "\n",
    "df = product_df.withColumn(\"sales_date\", to_date(col(\"sales_date\"), \"dd-MM-yyyy\"))\n",
    "df = df.withColumn(\"six_months_ago\", add_months(col(\"sales_date\"), -6))\n",
    "# df.show()\n",
    "\n",
    "window_spec = Window.partitionBy(\"product_name\").orderBy(\"sales_date\")\n",
    "\n",
    "df = df.withColumn( \"total_6_months_sales\",  sum( col(\"sales\") ).over(window_spec) ).filter(col(\"sales_date\") > col(\"six_months_ago\"))\\\n",
    "        .withColumn(\"Percnt this month\", col(\"sales\")*100 / col(\"total_6_months_sales\"))\n",
    "df.show()"
   ],
   "id": "99fc2ff633fec4eb",
   "outputs": [
    {
     "name": "stdout",
     "output_type": "stream",
     "text": [
      "+----------+------------+----------+-------+--------------+--------------------+------------------+\n",
      "|product_id|product_name|sales_date|  sales|six_months_ago|total_6_months_sales| Percnt this month|\n",
      "+----------+------------+----------+-------+--------------+--------------------+------------------+\n",
      "|         1|      iphone|2023-01-01|1500000|    2022-07-01|             1500000|             100.0|\n",
      "|         1|      iphone|2023-02-01|1300000|    2022-08-01|             2800000| 46.42857142857143|\n",
      "|         1|      iphone|2023-03-01|1600000|    2022-09-01|             4400000| 36.36363636363637|\n",
      "|         1|      iphone|2023-04-01|1700000|    2022-10-01|             6100000|27.868852459016395|\n",
      "|         1|      iphone|2023-05-01|1200000|    2022-11-01|             7300000|16.438356164383563|\n",
      "|         1|      iphone|2023-06-01|1100000|    2022-12-01|             8400000|13.095238095238095|\n",
      "|         3|     oneplus|2023-01-01|1100000|    2022-07-01|             1100000|             100.0|\n",
      "|         3|     oneplus|2023-02-01|1120000|    2022-08-01|             2220000|50.450450450450454|\n",
      "|         3|     oneplus|2023-03-01|1160000|    2022-09-01|             3380000|34.319526627218934|\n",
      "|         3|     oneplus|2023-04-01|1170000|    2022-10-01|             4550000|25.714285714285715|\n",
      "|         3|     oneplus|2023-05-01|1175000|    2022-11-01|             5725000|20.524017467248907|\n",
      "|         3|     oneplus|2023-06-01|1200000|    2022-12-01|             6925000| 17.32851985559567|\n",
      "|         2|     samsung|2023-01-01|1100000|    2022-07-01|             1100000|             100.0|\n",
      "|         2|     samsung|2023-02-01|1120000|    2022-08-01|             2220000|50.450450450450454|\n",
      "|         2|     samsung|2023-03-01|1080000|    2022-09-01|             3300000| 32.72727272727273|\n",
      "|         2|     samsung|2023-04-01|1800000|    2022-10-01|             5100000|35.294117647058826|\n",
      "|         2|     samsung|2023-05-01| 980000|    2022-11-01|             6080000| 16.11842105263158|\n",
      "|         2|     samsung|2023-06-01|1100000|    2022-12-01|             7180000| 15.32033426183844|\n",
      "+----------+------------+----------+-------+--------------+--------------------+------------------+\n",
      "\n"
     ]
    }
   ],
   "execution_count": 40
  },
  {
   "metadata": {},
   "cell_type": "code",
   "outputs": [],
   "execution_count": null,
   "source": "",
   "id": "4d70ba56462d3c6a"
  },
  {
   "metadata": {
    "ExecuteTime": {
     "end_time": "2024-12-12T10:49:32.042017Z",
     "start_time": "2024-12-12T10:49:31.922712Z"
    }
   },
   "cell_type": "code",
   "source": [
    "# Percentage of Profit/Loss based on Prev Month\n",
    "\n",
    "window_spec = Window.partitionBy(\"product_id\").orderBy(month(col(\"sales_date\")))\n",
    "\n",
    "last_month_sales_df = product_df.withColumn(\"previous_month_sales\", lag(col(\"sales\"), 1).over(window_spec) )\n",
    "df = last_month_sales_df.withColumn(\"per_loss_gain\", round( (col(\"sales\") - col(\"previous_month_sales\") )* 100/ col(\"previous_month_sales\") , 2))\n",
    "df.show()"
   ],
   "id": "da16fb6444a77339",
   "outputs": [
    {
     "name": "stdout",
     "output_type": "stream",
     "text": [
      "+----------+------------+----------+-------+--------------------+-------------+\n",
      "|product_id|product_name|sales_date|  sales|previous_month_sales|per_loss_gain|\n",
      "+----------+------------+----------+-------+--------------------+-------------+\n",
      "|         1|      iphone|2023-01-01|1500000|                NULL|         NULL|\n",
      "|         1|      iphone|2023-02-01|1300000|             1500000|       -13.33|\n",
      "|         1|      iphone|2023-03-01|1600000|             1300000|        23.08|\n",
      "|         1|      iphone|2023-04-01|1700000|             1600000|         6.25|\n",
      "|         1|      iphone|2023-05-01|1200000|             1700000|       -29.41|\n",
      "|         1|      iphone|2023-06-01|1100000|             1200000|        -8.33|\n",
      "|         2|     samsung|2023-01-01|1100000|                NULL|         NULL|\n",
      "|         2|     samsung|2023-02-01|1120000|             1100000|         1.82|\n",
      "|         2|     samsung|2023-03-01|1080000|             1120000|        -3.57|\n",
      "|         2|     samsung|2023-04-01|1800000|             1080000|        66.67|\n",
      "|         2|     samsung|2023-05-01| 980000|             1800000|       -45.56|\n",
      "|         2|     samsung|2023-06-01|1100000|              980000|        12.24|\n",
      "|         3|     oneplus|2023-01-01|1100000|                NULL|         NULL|\n",
      "|         3|     oneplus|2023-02-01|1120000|             1100000|         1.82|\n",
      "|         3|     oneplus|2023-03-01|1160000|             1120000|         3.57|\n",
      "|         3|     oneplus|2023-04-01|1170000|             1160000|         0.86|\n",
      "|         3|     oneplus|2023-05-01|1175000|             1170000|         0.43|\n",
      "|         3|     oneplus|2023-06-01|1200000|             1175000|         2.13|\n",
      "+----------+------------+----------+-------+--------------------+-------------+\n",
      "\n"
     ]
    }
   ],
   "execution_count": 28
  },
  {
   "metadata": {
    "ExecuteTime": {
     "end_time": "2024-12-12T11:17:29.718312Z",
     "start_time": "2024-12-12T11:17:29.564797Z"
    }
   },
   "cell_type": "code",
   "source": "spark.stop()",
   "id": "f848788d9fd78856",
   "outputs": [],
   "execution_count": 41
  }
 ],
 "metadata": {
  "kernelspec": {
   "display_name": "Python 3",
   "language": "python",
   "name": "python3"
  },
  "language_info": {
   "codemirror_mode": {
    "name": "ipython",
    "version": 2
   },
   "file_extension": ".py",
   "mimetype": "text/x-python",
   "name": "python",
   "nbconvert_exporter": "python",
   "pygments_lexer": "ipython2",
   "version": "2.7.6"
  }
 },
 "nbformat": 4,
 "nbformat_minor": 5
}
