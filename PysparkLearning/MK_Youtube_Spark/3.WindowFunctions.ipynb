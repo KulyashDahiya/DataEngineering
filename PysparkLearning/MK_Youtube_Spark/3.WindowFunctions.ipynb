{
 "cells": [
  {
   "cell_type": "code",
   "id": "initial_id",
   "metadata": {
    "collapsed": true,
    "ExecuteTime": {
     "end_time": "2024-12-12T09:10:50.449924Z",
     "start_time": "2024-12-12T09:10:50.173871Z"
    }
   },
   "source": [
    "from enum import EnumType\n",
    "\n",
    "import findspark\n",
    "findspark.init()\n",
    "\n",
    "\n",
    "from pyspark.sql import SparkSession\n",
    "from pyspark.sql.functions import *\n",
    "from pyspark.sql.types import *\n",
    "\n",
    "spark = SparkSession.builder.master(\"local[4]\") \\\n",
    "        .appName(\"Joins\").getOrCreate()"
   ],
   "outputs": [],
   "execution_count": 3
  },
  {
   "metadata": {
    "ExecuteTime": {
     "end_time": "2024-12-12T09:16:32.043126Z",
     "start_time": "2024-12-12T09:16:31.662829Z"
    }
   },
   "cell_type": "code",
   "source": [
    "emp_data = [(1,'manish',50000,'IT','m'),\n",
    "            (2,'vikash',60000,'sales','m'),\n",
    "            (3,'raushan',70000,'marketing','m'),\n",
    "            (4,'mukesh',80000,'IT','m'),\n",
    "            (5,'priti',90000,'sales','f'),\n",
    "            (6,'nikita',45000,'marketing','f'),\n",
    "            (7,'ragini',55000,'marketing','f'),\n",
    "            (8,'rashi',100000,'IT','f'),\n",
    "            (9,'aditya',65000,'IT','m'),\n",
    "            (10,'rahul',50000,'marketing','m'),\n",
    "            (11,'rakhi',50000,'IT','f'),\n",
    "            (12,'akhilesh',90000,'sales','m')]\n",
    "\n",
    "emp_schema = StructType([StructField(\"id\", IntegerType(), True),\n",
    "                         StructField(\"name\", StringType(), True),\n",
    "                         StructField(\"salary\", IntegerType(), True),\n",
    "                         StructField(\"Department\", StringType(), True),\n",
    "                         StructField(\"Gender\", StringType(), True)])\n",
    "\n",
    "emp_df = spark.createDataFrame(emp_data, emp_schema)"
   ],
   "id": "32dc87fe71cd6aa0",
   "outputs": [],
   "execution_count": 4
  },
  {
   "metadata": {
    "ExecuteTime": {
     "end_time": "2024-12-12T09:16:43.169146Z",
     "start_time": "2024-12-12T09:16:41.792868Z"
    }
   },
   "cell_type": "code",
   "source": "emp_df.show()",
   "id": "ec983a420ecf61ce",
   "outputs": [
    {
     "name": "stderr",
     "output_type": "stream",
     "text": [
      "                                                                                \r"
     ]
    },
    {
     "name": "stdout",
     "output_type": "stream",
     "text": [
      "+---+--------+------+----------+------+\n",
      "| id|    name|salary|Department|Gender|\n",
      "+---+--------+------+----------+------+\n",
      "|  1|  manish| 50000|        IT|     m|\n",
      "|  2|  vikash| 60000|     sales|     m|\n",
      "|  3| raushan| 70000| marketing|     m|\n",
      "|  4|  mukesh| 80000|        IT|     m|\n",
      "|  5|   priti| 90000|     sales|     f|\n",
      "|  6|  nikita| 45000| marketing|     f|\n",
      "|  7|  ragini| 55000| marketing|     f|\n",
      "|  8|   rashi|100000|        IT|     f|\n",
      "|  9|  aditya| 65000|        IT|     m|\n",
      "| 10|   rahul| 50000| marketing|     m|\n",
      "| 11|   rakhi| 50000|        IT|     f|\n",
      "| 12|akhilesh| 90000|     sales|     m|\n",
      "+---+--------+------+----------+------+\n",
      "\n"
     ]
    }
   ],
   "execution_count": 5
  },
  {
   "metadata": {
    "ExecuteTime": {
     "end_time": "2024-12-12T09:20:29.337186Z",
     "start_time": "2024-12-12T09:20:29.225983Z"
    }
   },
   "cell_type": "code",
   "source": [
    "emp_df.groupBy(\"department\")\\\n",
    "      .agg(sum(\"salary\")).show()"
   ],
   "id": "98447a6e1c8cb6c1",
   "outputs": [
    {
     "name": "stdout",
     "output_type": "stream",
     "text": [
      "+----------+-----------+\n",
      "|department|sum(salary)|\n",
      "+----------+-----------+\n",
      "| marketing|     220000|\n",
      "|     sales|     240000|\n",
      "|        IT|     345000|\n",
      "+----------+-----------+\n",
      "\n"
     ]
    }
   ],
   "execution_count": 7
  },
  {
   "metadata": {},
   "cell_type": "markdown",
   "source": "Window Functions",
   "id": "b06cf8026f3f7958"
  },
  {
   "metadata": {
    "ExecuteTime": {
     "end_time": "2024-12-12T09:22:55.984271Z",
     "start_time": "2024-12-12T09:22:55.981504Z"
    }
   },
   "cell_type": "code",
   "source": "from pyspark.sql.window import *",
   "id": "7a61c95a001f1392",
   "outputs": [],
   "execution_count": 17
  },
  {
   "metadata": {
    "ExecuteTime": {
     "end_time": "2024-12-12T09:31:46.657723Z",
     "start_time": "2024-12-12T09:31:46.547236Z"
    }
   },
   "cell_type": "code",
   "source": [
    "window_spec = Window.partitionBy(\"department\")\n",
    "\n",
    "new_df = emp_df.withColumn(\"Dpt_Salary\", sum(\"salary\").over(window_spec))\n",
    "# new_df.show(truncate=False)\n",
    "\n",
    "new_df1 = new_df.withColumn(\"salary_percent\", round(col(\"salary\")*100/col(\"dpt_salary\"), 2))\n",
    "new_df1.show()"
   ],
   "id": "d3f230c16de772f5",
   "outputs": [
    {
     "name": "stdout",
     "output_type": "stream",
     "text": [
      "+---+--------+------+----------+------+----------+--------------+\n",
      "| id|    name|salary|Department|Gender|Dpt_Salary|salary_percent|\n",
      "+---+--------+------+----------+------+----------+--------------+\n",
      "|  1|  manish| 50000|        IT|     m|    345000|         14.49|\n",
      "|  4|  mukesh| 80000|        IT|     m|    345000|         23.19|\n",
      "|  8|   rashi|100000|        IT|     f|    345000|         28.99|\n",
      "|  9|  aditya| 65000|        IT|     m|    345000|         18.84|\n",
      "| 11|   rakhi| 50000|        IT|     f|    345000|         14.49|\n",
      "|  3| raushan| 70000| marketing|     m|    220000|         31.82|\n",
      "|  6|  nikita| 45000| marketing|     f|    220000|         20.45|\n",
      "|  7|  ragini| 55000| marketing|     f|    220000|          25.0|\n",
      "| 10|   rahul| 50000| marketing|     m|    220000|         22.73|\n",
      "|  2|  vikash| 60000|     sales|     m|    240000|          25.0|\n",
      "|  5|   priti| 90000|     sales|     f|    240000|          37.5|\n",
      "| 12|akhilesh| 90000|     sales|     m|    240000|          37.5|\n",
      "+---+--------+------+----------+------+----------+--------------+\n",
      "\n"
     ]
    }
   ],
   "execution_count": 26
  },
  {
   "metadata": {
    "ExecuteTime": {
     "end_time": "2024-12-12T09:36:00.078068Z",
     "start_time": "2024-12-12T09:35:59.987091Z"
    }
   },
   "cell_type": "code",
   "source": [
    "rnk_window = Window.partitionBy(\"department\").orderBy(col(\"salary\"))\n",
    "\n",
    "emp_df.withColumn(\"rank\", rank().over(rnk_window)).show(truncate=False)"
   ],
   "id": "b097a1a9251d742f",
   "outputs": [
    {
     "name": "stdout",
     "output_type": "stream",
     "text": [
      "+---+--------+------+----------+------+----+\n",
      "|id |name    |salary|Department|Gender|rank|\n",
      "+---+--------+------+----------+------+----+\n",
      "|1  |manish  |50000 |IT        |m     |1   |\n",
      "|11 |rakhi   |50000 |IT        |f     |1   |\n",
      "|9  |aditya  |65000 |IT        |m     |3   |\n",
      "|4  |mukesh  |80000 |IT        |m     |4   |\n",
      "|8  |rashi   |100000|IT        |f     |5   |\n",
      "|6  |nikita  |45000 |marketing |f     |1   |\n",
      "|10 |rahul   |50000 |marketing |m     |2   |\n",
      "|7  |ragini  |55000 |marketing |f     |3   |\n",
      "|3  |raushan |70000 |marketing |m     |4   |\n",
      "|2  |vikash  |60000 |sales     |m     |1   |\n",
      "|5  |priti   |90000 |sales     |f     |2   |\n",
      "|12 |akhilesh|90000 |sales     |m     |2   |\n",
      "+---+--------+------+----------+------+----+\n",
      "\n"
     ]
    }
   ],
   "execution_count": 32
  },
  {
   "metadata": {
    "ExecuteTime": {
     "end_time": "2024-12-12T09:36:27.441165Z",
     "start_time": "2024-12-12T09:36:27.326056Z"
    }
   },
   "cell_type": "code",
   "source": [
    "dense_rnk_window = Window.partitionBy(\"department\").orderBy(col(\"salary\"))\n",
    "\n",
    "emp_df.withColumn(\"rank\", dense_rank().over(dense_rnk_window)).show(truncate=False)"
   ],
   "id": "8b6a57d51ee13ddc",
   "outputs": [
    {
     "name": "stdout",
     "output_type": "stream",
     "text": [
      "+---+--------+------+----------+------+----+\n",
      "|id |name    |salary|Department|Gender|rank|\n",
      "+---+--------+------+----------+------+----+\n",
      "|1  |manish  |50000 |IT        |m     |1   |\n",
      "|11 |rakhi   |50000 |IT        |f     |1   |\n",
      "|9  |aditya  |65000 |IT        |m     |2   |\n",
      "|4  |mukesh  |80000 |IT        |m     |3   |\n",
      "|8  |rashi   |100000|IT        |f     |4   |\n",
      "|6  |nikita  |45000 |marketing |f     |1   |\n",
      "|10 |rahul   |50000 |marketing |m     |2   |\n",
      "|7  |ragini  |55000 |marketing |f     |3   |\n",
      "|3  |raushan |70000 |marketing |m     |4   |\n",
      "|2  |vikash  |60000 |sales     |m     |1   |\n",
      "|5  |priti   |90000 |sales     |f     |2   |\n",
      "|12 |akhilesh|90000 |sales     |m     |2   |\n",
      "+---+--------+------+----------+------+----+\n",
      "\n"
     ]
    }
   ],
   "execution_count": 33
  },
  {
   "metadata": {},
   "cell_type": "code",
   "outputs": [],
   "execution_count": null,
   "source": "",
   "id": "6712aad79e0760db"
  }
 ],
 "metadata": {
  "kernelspec": {
   "display_name": "Python 3",
   "language": "python",
   "name": "python3"
  },
  "language_info": {
   "codemirror_mode": {
    "name": "ipython",
    "version": 2
   },
   "file_extension": ".py",
   "mimetype": "text/x-python",
   "name": "python",
   "nbconvert_exporter": "python",
   "pygments_lexer": "ipython2",
   "version": "2.7.6"
  }
 },
 "nbformat": 4,
 "nbformat_minor": 5
}
