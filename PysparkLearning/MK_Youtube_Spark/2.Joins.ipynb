{
 "cells": [
  {
   "cell_type": "code",
   "id": "initial_id",
   "metadata": {
    "collapsed": true,
    "ExecuteTime": {
     "end_time": "2024-12-12T08:38:53.792583Z",
     "start_time": "2024-12-12T08:38:51.306887Z"
    }
   },
   "source": [
    "import findspark\n",
    "findspark.init()\n",
    "\n",
    "\n",
    "from pyspark.sql import SparkSession\n",
    "from pyspark.sql.functions import *\n",
    "from pyspark.sql.types import *\n",
    "\n",
    "spark = SparkSession.builder.master(\"local[4]\") \\\n",
    "        .appName(\"Joins\").getOrCreate()"
   ],
   "outputs": [
    {
     "name": "stderr",
     "output_type": "stream",
     "text": [
      "Setting default log level to \"WARN\".\n",
      "To adjust logging level use sc.setLogLevel(newLevel). For SparkR, use setLogLevel(newLevel).\n",
      "24/12/12 14:08:52 WARN NativeCodeLoader: Unable to load native-hadoop library for your platform... using builtin-java classes where applicable\n"
     ]
    }
   ],
   "execution_count": 1
  },
  {
   "metadata": {},
   "cell_type": "markdown",
   "source": "Customer DataFrame",
   "id": "9b2df905075ffb31"
  },
  {
   "metadata": {
    "ExecuteTime": {
     "end_time": "2024-12-12T08:39:20.364556Z",
     "start_time": "2024-12-12T08:39:20.232228Z"
    }
   },
   "cell_type": "code",
   "source": [
    "customer_data = [(1,'manish','patna',\"30-05-2022\"),\n",
    "(2,'vikash','kolkata',\"12-03-2023\"),\n",
    "(3,'nikita','delhi',\"25-06-2023\"),\n",
    "(4,'rahul','ranchi',\"24-03-2023\"),\n",
    "(5,'mahesh','jaipur',\"22-03-2023\"),\n",
    "(6,'prantosh','kolkata',\"18-10-2022\"),\n",
    "(7,'raman','patna',\"30-12-2022\"),\n",
    "(8,'prakash','ranchi',\"24-02-2023\"),\n",
    "(9,'ragini','kolkata',\"03-03-2023\"),\n",
    "(10,'raushan','jaipur',\"05-02-2023\")]\n",
    "\n",
    "\n",
    "customer_schema = StructType([StructField(\"customer_id\", IntegerType(), True),\n",
    "                              StructField(\"customer_name\", StringType(), True),\n",
    "                              StructField(\"address\", StringType(), True),\n",
    "                              StructField(\"date_of_joining\", StringType(), True)])\n",
    "\n",
    "customer_df = spark.createDataFrame(customer_data, customer_schema)\n",
    "\n",
    "print(\"Customer DataFrame:\")\n",
    "customer_df.show(5)"
   ],
   "id": "ea27583c78b9506a",
   "outputs": [
    {
     "name": "stdout",
     "output_type": "stream",
     "text": [
      "Customer DataFrame:\n",
      "+-----------+-------------+-------+---------------+\n",
      "|customer_id|customer_name|address|date_of_joining|\n",
      "+-----------+-------------+-------+---------------+\n",
      "|          1|       manish|  patna|     30-05-2022|\n",
      "|          2|       vikash|kolkata|     12-03-2023|\n",
      "|          3|       nikita|  delhi|     25-06-2023|\n",
      "|          4|        rahul| ranchi|     24-03-2023|\n",
      "|          5|       mahesh| jaipur|     22-03-2023|\n",
      "+-----------+-------------+-------+---------------+\n",
      "only showing top 5 rows\n",
      "\n"
     ]
    }
   ],
   "execution_count": 4
  },
  {
   "metadata": {
    "ExecuteTime": {
     "end_time": "2024-12-12T08:40:41.387598Z",
     "start_time": "2024-12-12T08:40:41.238758Z"
    }
   },
   "cell_type": "code",
   "source": [
    "sales_data = [(1,22,10,\"01-06-2022\"),\n",
    "(1,27,5,\"03-02-2023\"),\n",
    "(2,5,3,\"01-06-2023\"),\n",
    "(5,22,1,\"22-03-2023\"),\n",
    "(7,22,4,\"03-02-2023\"),\n",
    "(9,5,6,\"03-03-2023\"),\n",
    "(2,1,12,\"15-06-2023\"),\n",
    "(1,56,2,\"25-06-2023\"),\n",
    "(5,12,5,\"15-04-2023\"),\n",
    "(11,12,76,\"12-03-2023\")]\n",
    "\n",
    "# sales_schema=['customer_id','product_id','quantity','date_of_purchase']\n",
    "\n",
    "sales_schema = StructType([StructField(\"customer_id\", IntegerType(), True),\n",
    "                           StructField(\"product_id\", IntegerType(), True),\n",
    "                           StructField(\"quantity\", IntegerType(), True),\n",
    "                           StructField(\"date_of_purchase\", StringType(), True)])\n",
    "\n",
    "sales_df = spark.createDataFrame(sales_data, sales_schema)\n",
    "\n",
    "sales_df.show(5)"
   ],
   "id": "2384e0017816d371",
   "outputs": [
    {
     "name": "stdout",
     "output_type": "stream",
     "text": [
      "+-----------+----------+--------+----------------+\n",
      "|customer_id|product_id|quantity|date_of_purchase|\n",
      "+-----------+----------+--------+----------------+\n",
      "|          1|        22|      10|      01-06-2022|\n",
      "|          1|        27|       5|      03-02-2023|\n",
      "|          2|         5|       3|      01-06-2023|\n",
      "|          5|        22|       1|      22-03-2023|\n",
      "|          7|        22|       4|      03-02-2023|\n",
      "+-----------+----------+--------+----------------+\n",
      "only showing top 5 rows\n",
      "\n"
     ]
    }
   ],
   "execution_count": 5
  },
  {
   "metadata": {},
   "cell_type": "markdown",
   "source": "Types of Join in Spark",
   "id": "f27353ef6ffbb68c"
  },
  {
   "metadata": {
    "ExecuteTime": {
     "end_time": "2024-12-12T08:40:57.112175Z",
     "start_time": "2024-12-12T08:40:56.725463Z"
    }
   },
   "cell_type": "code",
   "source": [
    "# Inner Join\n",
    "\n",
    "inner_join_df = customer_df.join(sales_df, customer_df.customer_id == sales_df.customer_id, \"inner\")\n",
    "inner_join_df.show()"
   ],
   "id": "a2dd96d9ec7ddf23",
   "outputs": [
    {
     "name": "stdout",
     "output_type": "stream",
     "text": [
      "+-----------+-------------+-------+---------------+-----------+----------+--------+----------------+\n",
      "|customer_id|customer_name|address|date_of_joining|customer_id|product_id|quantity|date_of_purchase|\n",
      "+-----------+-------------+-------+---------------+-----------+----------+--------+----------------+\n",
      "|          1|       manish|  patna|     30-05-2022|          1|        22|      10|      01-06-2022|\n",
      "|          1|       manish|  patna|     30-05-2022|          1|        27|       5|      03-02-2023|\n",
      "|          1|       manish|  patna|     30-05-2022|          1|        56|       2|      25-06-2023|\n",
      "|          2|       vikash|kolkata|     12-03-2023|          2|         5|       3|      01-06-2023|\n",
      "|          2|       vikash|kolkata|     12-03-2023|          2|         1|      12|      15-06-2023|\n",
      "|          5|       mahesh| jaipur|     22-03-2023|          5|        22|       1|      22-03-2023|\n",
      "|          5|       mahesh| jaipur|     22-03-2023|          5|        12|       5|      15-04-2023|\n",
      "|          7|        raman|  patna|     30-12-2022|          7|        22|       4|      03-02-2023|\n",
      "|          9|       ragini|kolkata|     03-03-2023|          9|         5|       6|      03-03-2023|\n",
      "+-----------+-------------+-------+---------------+-----------+----------+--------+----------------+\n",
      "\n"
     ]
    }
   ],
   "execution_count": 6
  },
  {
   "metadata": {
    "ExecuteTime": {
     "end_time": "2024-12-12T08:41:36.714850Z",
     "start_time": "2024-12-12T08:41:36.440942Z"
    }
   },
   "cell_type": "code",
   "source": [
    "#Outer (Full Outer Join)\n",
    "\n",
    "full_join_df = customer_df.join(sales_df, customer_df.customer_id == sales_df.customer_id, \"full\")\n",
    "print(\"Full Join Count\", full_join_df.count())\n",
    "full_join_df.show()"
   ],
   "id": "66fb0662abcb1ff2",
   "outputs": [
    {
     "name": "stdout",
     "output_type": "stream",
     "text": [
      "Full Join Count 15\n",
      "+-----------+-------------+-------+---------------+-----------+----------+--------+----------------+\n",
      "|customer_id|customer_name|address|date_of_joining|customer_id|product_id|quantity|date_of_purchase|\n",
      "+-----------+-------------+-------+---------------+-----------+----------+--------+----------------+\n",
      "|          1|       manish|  patna|     30-05-2022|          1|        22|      10|      01-06-2022|\n",
      "|          1|       manish|  patna|     30-05-2022|          1|        27|       5|      03-02-2023|\n",
      "|          1|       manish|  patna|     30-05-2022|          1|        56|       2|      25-06-2023|\n",
      "|          2|       vikash|kolkata|     12-03-2023|          2|         5|       3|      01-06-2023|\n",
      "|          2|       vikash|kolkata|     12-03-2023|          2|         1|      12|      15-06-2023|\n",
      "|          3|       nikita|  delhi|     25-06-2023|       NULL|      NULL|    NULL|            NULL|\n",
      "|          4|        rahul| ranchi|     24-03-2023|       NULL|      NULL|    NULL|            NULL|\n",
      "|          5|       mahesh| jaipur|     22-03-2023|          5|        22|       1|      22-03-2023|\n",
      "|          5|       mahesh| jaipur|     22-03-2023|          5|        12|       5|      15-04-2023|\n",
      "|          6|     prantosh|kolkata|     18-10-2022|       NULL|      NULL|    NULL|            NULL|\n",
      "|          7|        raman|  patna|     30-12-2022|          7|        22|       4|      03-02-2023|\n",
      "|          8|      prakash| ranchi|     24-02-2023|       NULL|      NULL|    NULL|            NULL|\n",
      "|          9|       ragini|kolkata|     03-03-2023|          9|         5|       6|      03-03-2023|\n",
      "|         10|      raushan| jaipur|     05-02-2023|       NULL|      NULL|    NULL|            NULL|\n",
      "|       NULL|         NULL|   NULL|           NULL|         11|        12|      76|      12-03-2023|\n",
      "+-----------+-------------+-------+---------------+-----------+----------+--------+----------------+\n",
      "\n"
     ]
    }
   ],
   "execution_count": 8
  },
  {
   "metadata": {
    "ExecuteTime": {
     "end_time": "2024-12-12T08:42:04.524551Z",
     "start_time": "2024-12-12T08:42:04.202639Z"
    }
   },
   "cell_type": "code",
   "source": [
    "#Left Join\n",
    "\n",
    "left_join_df = customer_df.join(sales_df, customer_df.customer_id == sales_df.customer_id, \"left\")\n",
    "print(\"left join record count :\", left_join_df.count())\n",
    "left_join_df.show()"
   ],
   "id": "54e6a9692ccb7958",
   "outputs": [
    {
     "name": "stdout",
     "output_type": "stream",
     "text": [
      "left join record count : 14\n",
      "+-----------+-------------+-------+---------------+-----------+----------+--------+----------------+\n",
      "|customer_id|customer_name|address|date_of_joining|customer_id|product_id|quantity|date_of_purchase|\n",
      "+-----------+-------------+-------+---------------+-----------+----------+--------+----------------+\n",
      "|          1|       manish|  patna|     30-05-2022|          1|        56|       2|      25-06-2023|\n",
      "|          1|       manish|  patna|     30-05-2022|          1|        27|       5|      03-02-2023|\n",
      "|          1|       manish|  patna|     30-05-2022|          1|        22|      10|      01-06-2022|\n",
      "|          2|       vikash|kolkata|     12-03-2023|          2|         1|      12|      15-06-2023|\n",
      "|          2|       vikash|kolkata|     12-03-2023|          2|         5|       3|      01-06-2023|\n",
      "|          3|       nikita|  delhi|     25-06-2023|       NULL|      NULL|    NULL|            NULL|\n",
      "|          4|        rahul| ranchi|     24-03-2023|       NULL|      NULL|    NULL|            NULL|\n",
      "|          6|     prantosh|kolkata|     18-10-2022|       NULL|      NULL|    NULL|            NULL|\n",
      "|          5|       mahesh| jaipur|     22-03-2023|          5|        12|       5|      15-04-2023|\n",
      "|          5|       mahesh| jaipur|     22-03-2023|          5|        22|       1|      22-03-2023|\n",
      "|          9|       ragini|kolkata|     03-03-2023|          9|         5|       6|      03-03-2023|\n",
      "|          8|      prakash| ranchi|     24-02-2023|       NULL|      NULL|    NULL|            NULL|\n",
      "|          7|        raman|  patna|     30-12-2022|          7|        22|       4|      03-02-2023|\n",
      "|         10|      raushan| jaipur|     05-02-2023|       NULL|      NULL|    NULL|            NULL|\n",
      "+-----------+-------------+-------+---------------+-----------+----------+--------+----------------+\n",
      "\n"
     ]
    }
   ],
   "execution_count": 9
  },
  {
   "metadata": {
    "ExecuteTime": {
     "end_time": "2024-12-12T08:42:27.763192Z",
     "start_time": "2024-12-12T08:42:27.477669Z"
    }
   },
   "cell_type": "code",
   "source": [
    "#Right Join\n",
    "\n",
    "right_join_df = customer_df.join(sales_df, customer_df.customer_id == sales_df.customer_id, \"right\")\n",
    "print(\"right join record count\", right_join_df.count())\n",
    "right_join_df.show()"
   ],
   "id": "3d173d997577ca0e",
   "outputs": [
    {
     "name": "stdout",
     "output_type": "stream",
     "text": [
      "right join record count 10\n",
      "+-----------+-------------+-------+---------------+-----------+----------+--------+----------------+\n",
      "|customer_id|customer_name|address|date_of_joining|customer_id|product_id|quantity|date_of_purchase|\n",
      "+-----------+-------------+-------+---------------+-----------+----------+--------+----------------+\n",
      "|          1|       manish|  patna|     30-05-2022|          1|        22|      10|      01-06-2022|\n",
      "|          1|       manish|  patna|     30-05-2022|          1|        27|       5|      03-02-2023|\n",
      "|          5|       mahesh| jaipur|     22-03-2023|          5|        22|       1|      22-03-2023|\n",
      "|          2|       vikash|kolkata|     12-03-2023|          2|         5|       3|      01-06-2023|\n",
      "|          9|       ragini|kolkata|     03-03-2023|          9|         5|       6|      03-03-2023|\n",
      "|          7|        raman|  patna|     30-12-2022|          7|        22|       4|      03-02-2023|\n",
      "|          1|       manish|  patna|     30-05-2022|          1|        56|       2|      25-06-2023|\n",
      "|          5|       mahesh| jaipur|     22-03-2023|          5|        12|       5|      15-04-2023|\n",
      "|       NULL|         NULL|   NULL|           NULL|         11|        12|      76|      12-03-2023|\n",
      "|          2|       vikash|kolkata|     12-03-2023|          2|         1|      12|      15-06-2023|\n",
      "+-----------+-------------+-------+---------------+-----------+----------+--------+----------------+\n",
      "\n"
     ]
    }
   ],
   "execution_count": 10
  },
  {
   "metadata": {
    "ExecuteTime": {
     "end_time": "2024-12-12T09:05:37.333490Z",
     "start_time": "2024-12-12T09:05:37.187833Z"
    }
   },
   "cell_type": "code",
   "source": [
    "# Left Anti Join  -- Shows records from first table which are not available in second table\n",
    "\n",
    "left_anti_join_df = customer_df.join(sales_df, customer_df.customer_id == sales_df.customer_id, \"left_anti\").sort(\"customer_id\")\n",
    "left_anti_join_df.show()"
   ],
   "id": "f7473c2572aa7f9",
   "outputs": [
    {
     "name": "stdout",
     "output_type": "stream",
     "text": [
      "+-----------+-------------+-------+---------------+\n",
      "|customer_id|customer_name|address|date_of_joining|\n",
      "+-----------+-------------+-------+---------------+\n",
      "|          3|       nikita|  delhi|     25-06-2023|\n",
      "|          4|        rahul| ranchi|     24-03-2023|\n",
      "|          6|     prantosh|kolkata|     18-10-2022|\n",
      "|          8|      prakash| ranchi|     24-02-2023|\n",
      "|         10|      raushan| jaipur|     05-02-2023|\n",
      "+-----------+-------------+-------+---------------+\n",
      "\n"
     ]
    }
   ],
   "execution_count": 14
  },
  {
   "metadata": {
    "ExecuteTime": {
     "end_time": "2024-12-12T09:07:33.928984Z",
     "start_time": "2024-12-12T09:07:33.576550Z"
    }
   },
   "cell_type": "code",
   "source": [
    "# CrossJoin\n",
    "\n",
    "customer_df.crossJoin(sales_df).count()"
   ],
   "id": "7bd219edf1d6caa",
   "outputs": [
    {
     "data": {
      "text/plain": [
       "100"
      ]
     },
     "execution_count": 20,
     "metadata": {},
     "output_type": "execute_result"
    }
   ],
   "execution_count": 20
  },
  {
   "metadata": {
    "ExecuteTime": {
     "end_time": "2024-12-12T09:10:47.675294Z",
     "start_time": "2024-12-12T09:10:47.163821Z"
    }
   },
   "cell_type": "code",
   "source": "spark.stop()",
   "id": "a64a4ed3081eb3a2",
   "outputs": [],
   "execution_count": 21
  },
  {
   "metadata": {},
   "cell_type": "code",
   "outputs": [],
   "execution_count": null,
   "source": "",
   "id": "8a31fc6e0b6aec8b"
  }
 ],
 "metadata": {
  "kernelspec": {
   "display_name": "Python 3",
   "language": "python",
   "name": "python3"
  },
  "language_info": {
   "codemirror_mode": {
    "name": "ipython",
    "version": 2
   },
   "file_extension": ".py",
   "mimetype": "text/x-python",
   "name": "python",
   "nbconvert_exporter": "python",
   "pygments_lexer": "ipython2",
   "version": "2.7.6"
  }
 },
 "nbformat": 4,
 "nbformat_minor": 5
}
