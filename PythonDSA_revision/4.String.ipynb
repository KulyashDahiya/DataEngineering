{
 "cells": [
  {
   "cell_type": "code",
   "execution_count": 1,
   "id": "680f1d48-143b-4798-9adf-1d56cf26550f",
   "metadata": {},
   "outputs": [
    {
     "name": "stdout",
     "output_type": "stream",
     "text": [
      "135553\n"
     ]
    }
   ],
   "source": [
    "def convertFive(n):\n",
    "    # Code here\n",
    "    s = str(n)\n",
    "    s = s.replace('0', '5')\n",
    "    return int(s)\n",
    "\n",
    "\n",
    "n = 130003\n",
    "print(convertFive(n))"
   ]
  },
  {
   "cell_type": "code",
   "execution_count": 7,
   "id": "44137ec4-69d8-4c90-8cc7-5871ee46d695",
   "metadata": {},
   "outputs": [
    {
     "name": "stdout",
     "output_type": "stream",
     "text": [
      "0\n"
     ]
    }
   ],
   "source": [
    "\n",
    "def strStr(haystack, needle):\n",
    "        \"\"\"\n",
    "        :type haystack: str\n",
    "        :type needle: str\n",
    "        :rtype: int\n",
    "        \"\"\"\n",
    "        \n",
    "        if needle in haystack:\n",
    "            return haystack.index(needle)\n",
    "        else:\n",
    "            return -1\n",
    "\n",
    "haystack = \"sadbutsad\"\n",
    "needle = \"sad\"\n",
    "print(strStr(haystack, needle))"
   ]
  },
  {
   "cell_type": "code",
   "execution_count": 12,
   "id": "e8a5035f-89f0-49ea-a203-0d9a2edaecd6",
   "metadata": {},
   "outputs": [
    {
     "name": "stdout",
     "output_type": "stream",
     "text": [
      "-1\n"
     ]
    }
   ],
   "source": [
    "def strStr(haystack, needle):\n",
    "    x = -1\n",
    "    x = haystack.find(needle)\n",
    "    return x\n",
    "\n",
    "haystack = \"adbutad\"\n",
    "needle = \"sad\"\n",
    "print(strStr(haystack, needle))"
   ]
  },
  {
   "cell_type": "code",
   "execution_count": 16,
   "id": "532df5e0-57a0-42c3-b7b2-1b8eeb64fc50",
   "metadata": {},
   "outputs": [
    {
     "name": "stdout",
     "output_type": "stream",
     "text": [
      "-1\n"
     ]
    }
   ],
   "source": [
    "from re import finditer\n",
    "\n",
    "def strStr(haystack, needle):\n",
    "        \"\"\"\n",
    "        :type haystack: str\n",
    "        :type needle: str\n",
    "        :rtype: int\n",
    "        \"\"\"\n",
    "        print(haystack.find(needle))\n",
    "strStr(haystack, needle)"
   ]
  },
  {
   "cell_type": "code",
   "execution_count": 17,
   "id": "1b5e096b-f275-4756-841e-0336e9005632",
   "metadata": {},
   "outputs": [
    {
     "data": {
      "text/plain": [
       "20"
      ]
     },
     "execution_count": 17,
     "metadata": {},
     "output_type": "execute_result"
    }
   ],
   "source": [
    "def strStr(haystack, needle):\n",
    "        for i in range(len(haystack) - len(needle) + 1):\n",
    "            if haystack[i:i+len(needle)] == needle:\n",
    "                return i\n",
    "        return -1\n",
    "\n",
    "haystack = \"heytheremanhowareyouboydbutad\"\n",
    "needle = \"boy\"\n",
    "strStr(haystack, needle)"
   ]
  },
  {
   "cell_type": "code",
   "execution_count": 22,
   "id": "3bc8e5b8-c3dd-4365-aab7-6d32e26bef95",
   "metadata": {},
   "outputs": [
    {
     "name": "stdout",
     "output_type": "stream",
     "text": [
      "['flight', 'flow', 'flower']\n",
      "[('f', 'f'), ('l', 'l'), ('i', 'o'), ('g', 'w'), ('h', 'e'), ('t', 'r')]\n",
      "fl\n"
     ]
    }
   ],
   "source": [
    "def longestCommonPrefix(strs):\n",
    "    if not strs:\n",
    "        return \"\"\n",
    "\n",
    "    # Sort the list of strings to ensure the shortest string comes first\n",
    "    strs.sort()\n",
    "    print(strs)\n",
    "\n",
    "    # Compare the first and last strings (lexicographically sorted) character by character\n",
    "    prefix = \"\"\n",
    "    print(list(zip(strs[0], strs[-1])))\n",
    "    for c1, c2 in zip(strs[0], strs[-1]):\n",
    "        if c1 == c2:\n",
    "            prefix += c1\n",
    "        else:\n",
    "            break\n",
    "\n",
    "    return prefix\n",
    "\n",
    "# Example usage:\n",
    "strs = [\"flower\", \"flow\", \"flight\"]\n",
    "print(longestCommonPrefix(strs))"
   ]
  },
  {
   "cell_type": "code",
   "execution_count": null,
   "id": "0e0519d5-28e5-4c69-9f13-e422f4c3aa32",
   "metadata": {},
   "outputs": [],
   "source": [
    "def longestCommonPrefix(self, strs):\n",
    "        ans=\"\"\n",
    "        strs=sorted(strs)\n",
    "        first=strs[0]\n",
    "        last=strs[-1]\n",
    "        for i in range(min(len(first), len(last))):\n",
    "            if(first[i]!=last[i]):\n",
    "                return ans\n",
    "            ans+=first[i]\n",
    "        return ans"
   ]
  },
  {
   "cell_type": "code",
   "execution_count": null,
   "id": "18b0f666-4978-4831-a5d5-aba0a43989d2",
   "metadata": {},
   "outputs": [],
   "source": []
  },
  {
   "cell_type": "code",
   "execution_count": null,
   "id": "c44c4a9a-5b19-4870-93c1-b3d6730eec8f",
   "metadata": {},
   "outputs": [],
   "source": [
    "def reverseString(self, s):\n",
    "        \"\"\"\n",
    "        :type s: List[str]\n",
    "        :rtype: None Do not return anything, modify s in-place instead.\n",
    "        \"\"\"\n",
    "        i = 0\n",
    "        j = len(s) -1\n",
    "        while i<j:\n",
    "            temp = s[i]\n",
    "            s[i] = s[j]\n",
    "            s[j] = temp\n",
    "            \n",
    "            i += 1\n",
    "            j -= 1"
   ]
  },
  {
   "cell_type": "code",
   "execution_count": 24,
   "id": "8ca53cbe-601c-4b2f-8959-eb11f65afb68",
   "metadata": {},
   "outputs": [
    {
     "data": {
      "text/plain": [
       "['o', 'l', 'l', 'e', 'h']"
      ]
     },
     "execution_count": 24,
     "metadata": {},
     "output_type": "execute_result"
    }
   ],
   "source": [
    "def reverseString(s):\n",
    "        \"\"\"\n",
    "        :type s: List[str]\n",
    "        :rtype: None Do not return anything, modify s in-place instead.\n",
    "        \"\"\"\n",
    "        i = 0\n",
    "        j = len(s) -1\n",
    "        while i<j:\n",
    "            s[i], s[j] = s[j], s[i]\n",
    "            \n",
    "            i += 1\n",
    "            j -= 1\n",
    "        return s\n",
    "\n",
    "s = ['h', 'e', 'l', 'l', 'o']\n",
    "reverseString(s)"
   ]
  },
  {
   "cell_type": "code",
   "execution_count": null,
   "id": "6fc328a9-d4c1-4b95-89bd-c915c96fd06a",
   "metadata": {},
   "outputs": [],
   "source": []
  },
  {
   "cell_type": "code",
   "execution_count": null,
   "id": "c5c0086c-1471-42bb-85a2-3cc239d2ab92",
   "metadata": {},
   "outputs": [],
   "source": [
    "def arrayPairSum(nums):\n",
    "    # Sort the array\n",
    "    nums.sort()\n",
    "    \n",
    "    # Sum up every alternate element\n",
    "    max_sum = sum(nums[::2])\n",
    "    \n",
    "    return max_sum\n",
    "\n",
    "# Example usage\n",
    "nums = [1, 4, 3, 2]\n",
    "print(arrayPairSum(nums))  # Output: 4\n",
    "\n",
    "\n",
    "\n",
    "# Certainly! Let me explain how sum(nums[::2]) works:\n",
    "\n",
    "# nums[::2]: This is a slicing notation that creates a new list containing every second element from the original list nums.\n",
    "# sum(nums[::2]): This calculates the sum of all elements in the new list.\n",
    "# Here's a breakdown:\n",
    "\n",
    "# nums: This is the original list of integers.\n",
    "# nums[::2]: This creates a new list containing every second element from the original list. The slicing notation ::2 means \"start from the beginning and take every second element\".\n",
    "# sum(nums[::2]): This calculates the sum of all elements in the new list obtained from the slicing operation.\n",
    "# For example, consider the list nums = [1, 4, 3, 2]:\n",
    "\n",
    "# nums[::2] will be [1, 3], as it selects every second element starting from index 0.\n",
    "# sum(nums[::2]) will be 1 + 3 = 4, which is the sum of every second element in the list nums."
   ]
  },
  {
   "cell_type": "code",
   "execution_count": null,
   "id": "8f92475c-26a0-41ff-a4d2-a149b2b876cf",
   "metadata": {},
   "outputs": [],
   "source": [
    "def arrayPairSum(nums):\n",
    "    # Sort the array\n",
    "    nums.sort()\n",
    "    \n",
    "    # Initialize sum\n",
    "    max_sum = 0\n",
    "    \n",
    "    # Iterate over sorted array and sum up the minimum of each pair\n",
    "    for i in range(0, len(nums), 2):\n",
    "        max_sum += min(nums[i], nums[i+1])\n",
    "    \n",
    "    return max_sum\n",
    "\n",
    "# Example usage\n",
    "nums = [1, 4, 3, 2]\n",
    "print(arrayPairSum(nums))  # Output: 4"
   ]
  },
  {
   "cell_type": "code",
   "execution_count": 26,
   "id": "b3a85cfa-1518-4926-91d7-a32a7885e0f0",
   "metadata": {},
   "outputs": [
    {
     "name": "stdout",
     "output_type": "stream",
     "text": [
      "[1, 4, 3, 2]\n",
      "[1, 2, 3, 4]\n",
      "[1, 3]\n",
      "4\n"
     ]
    }
   ],
   "source": [
    "def arrayPairSum(nums):\n",
    "    print(nums)\n",
    "    nums.sort()\n",
    "    print(nums)\n",
    "    lis = nums[::2]\n",
    "    print(lis)\n",
    "    max_sum = sum(lis)\n",
    "    # max_sum = sum(nums[::2])\n",
    "    \n",
    "    return max_sum\n",
    "\n",
    "# Example usage\n",
    "nums = [1, 4, 3, 2]\n",
    "print(arrayPairSum(nums))"
   ]
  },
  {
   "cell_type": "code",
   "execution_count": 27,
   "id": "2a488b05-7b93-4731-ab3b-51505496913d",
   "metadata": {},
   "outputs": [
    {
     "name": "stdout",
     "output_type": "stream",
     "text": [
      "4\n"
     ]
    }
   ],
   "source": [
    "def arrayPairSum(nums):\n",
    "    nums.sort()\n",
    "    return sum(nums[::2])\n",
    "\n",
    "# Example usage\n",
    "nums = [1, 4, 3, 2]\n",
    "print(arrayPairSum(nums))"
   ]
  }
 ],
 "metadata": {
  "kernelspec": {
   "display_name": "Python 3 (ipykernel)",
   "language": "python",
   "name": "python3"
  },
  "language_info": {
   "codemirror_mode": {
    "name": "ipython",
    "version": 3
   },
   "file_extension": ".py",
   "mimetype": "text/x-python",
   "name": "python",
   "nbconvert_exporter": "python",
   "pygments_lexer": "ipython3",
   "version": "3.12.2"
  }
 },
 "nbformat": 4,
 "nbformat_minor": 5
}
