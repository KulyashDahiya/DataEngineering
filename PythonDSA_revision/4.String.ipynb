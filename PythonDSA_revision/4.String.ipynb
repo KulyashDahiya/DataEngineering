{
 "cells": [
  {
   "cell_type": "code",
   "execution_count": 1,
   "id": "680f1d48-143b-4798-9adf-1d56cf26550f",
   "metadata": {},
   "outputs": [
    {
     "name": "stdout",
     "output_type": "stream",
     "text": [
      "135553\n"
     ]
    }
   ],
   "source": [
    "def convertFive(n):\n",
    "    # Code here\n",
    "    s = str(n)\n",
    "    s = s.replace('0', '5')\n",
    "    return int(s)\n",
    "\n",
    "\n",
    "n = 130003\n",
    "print(convertFive(n))"
   ]
  }
 ],
 "metadata": {
  "kernelspec": {
   "display_name": "Python 3 (ipykernel)",
   "language": "python",
   "name": "python3"
  },
  "language_info": {
   "codemirror_mode": {
    "name": "ipython",
    "version": 3
   },
   "file_extension": ".py",
   "mimetype": "text/x-python",
   "name": "python",
   "nbconvert_exporter": "python",
   "pygments_lexer": "ipython3",
   "version": "3.12.2"
  }
 },
 "nbformat": 4,
 "nbformat_minor": 5
}
