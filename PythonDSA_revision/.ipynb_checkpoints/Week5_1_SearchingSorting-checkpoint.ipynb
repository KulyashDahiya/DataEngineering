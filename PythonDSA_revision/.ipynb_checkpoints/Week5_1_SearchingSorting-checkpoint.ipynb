{
 "cells": [
  {
   "cell_type": "code",
   "execution_count": null,
   "id": "4e9a3fb7-b72c-4866-adf5-c61197713d11",
   "metadata": {},
   "outputs": [],
   "source": [
    "# For example, if the array is as follows: [1, 2, 2, 3, 3, 3, 4, 8, 9, 19, 19, 19]\n",
    "# Try writing the code for the following two cases.\n",
    "# 1. Finding first occurrence of the given number.\n",
    "# 2. Finding the last occurrence of the given number."
   ]
  },
  {
   "cell_type": "code",
   "execution_count": null,
   "id": "2f9f04d8-ce5d-464c-85d0-de7279e6ef2d",
   "metadata": {},
   "outputs": [],
   "source": [
    "# Binary Search\n",
    "\n",
    "def bSearch(l, x, low, high):\n",
    "    if low > high:\n",
    "        return -1\n",
    "\n",
    "    mid = (low + high) // 2\n",
    "    if l[mid] == x:\n",
    "        return mid\n",
    "\n",
    "    elif l[mid] > x:\n",
    "        return bSearch(l, x, low, mid - 1)\n",
    "\n",
    "    else:\n",
    "        return bSearch(l, x, mid + 1, high)\n",
    "\n",
    "\n",
    "def bSearchMain(l, x):\n",
    "    return bSearch(l, x, 0, len(l) - 1)\n",
    "\n",
    "\n",
    "l = [10, 20, 30, 40, 50, 60]\n",
    "\n",
    "print(30, bSearchMain(l, 30))\n",
    "print(20, bSearchMain(l, 20))\n",
    "print(10, bSearchMain(l, 10))\n",
    "print(60, bSearchMain(l, 60))\n",
    "print(40, bSearchMain(l, 40))\n",
    "print(55, bSearchMain(l, 55))\n",
    "print(-50, bSearchMain(l, -50))\n"
   ]
  },
  {
   "cell_type": "code",
   "execution_count": null,
   "id": "22e9ebfd-310c-4f4d-b51e-ba27220efdab",
   "metadata": {},
   "outputs": [],
   "source": []
  },
  {
   "cell_type": "code",
   "execution_count": null,
   "id": "b7fbaef4-33c2-4d5b-94f2-65ba6aa40e79",
   "metadata": {},
   "outputs": [],
   "source": []
  },
  {
   "cell_type": "code",
   "execution_count": null,
   "id": "d2e02a07-c296-488a-953e-4a22f56d78c2",
   "metadata": {},
   "outputs": [],
   "source": []
  },
  {
   "cell_type": "code",
   "execution_count": null,
   "id": "2812ea90-945d-4fd3-9383-1f7ec8ad5dbd",
   "metadata": {},
   "outputs": [],
   "source": []
  },
  {
   "cell_type": "code",
   "execution_count": 10,
   "id": "3fe310a2-83f5-4fa2-a60e-deca4776816f",
   "metadata": {},
   "outputs": [
    {
     "name": "stdin",
     "output_type": "stream",
     "text": [
      " 5\n",
      " 5 2 3 4 1\n"
     ]
    },
    {
     "name": "stdout",
     "output_type": "stream",
     "text": [
      "[5, 2, 3, 4, 1]\n",
      "[1, 2, 3, 4, 5]\n"
     ]
    }
   ],
   "source": [
    "#Insertion Sort\n",
    "\n",
    "def insertionSort(arr):\n",
    "    for i in range(1, n):\n",
    "        key = arr[i]\n",
    "        j = i - 1\n",
    "        while j >= 0 and key < arr[j]:\n",
    "            arr[j+1] = arr[j]\n",
    "            j -= 1\n",
    "        arr[j+1] = key\n",
    "    return arr\n",
    "\n",
    "n = int(input())\n",
    "arr = list(map(int, input().split()))\n",
    "print(arr)\n",
    "insertionSort(arr)\n",
    "print(arr)"
   ]
  },
  {
   "cell_type": "code",
   "execution_count": 19,
   "id": "0447c4e4-fe14-4a7f-a33c-3320a8d19373",
   "metadata": {},
   "outputs": [
    {
     "name": "stdout",
     "output_type": "stream",
     "text": [
      "[1, 2, 4, 4, 5, 6, 7, 8]\n"
     ]
    }
   ],
   "source": [
    "# Merge 2 sorted Arrays\n",
    "\n",
    "def mergeArr(arr1, arr2):\n",
    "    i = 0\n",
    "    j = 0\n",
    "    arr3 = []\n",
    "\n",
    "    while i < len(arr1) and j < len(arr2):\n",
    "        if arr1[i] < arr2[j]:\n",
    "            arr3.append(arr1[i])\n",
    "            i += 1\n",
    "        elif arr1[i] > arr2[j]:\n",
    "            arr3.append(arr2[j])\n",
    "            j += 1\n",
    "        else:\n",
    "            arr3.append(arr2[j])\n",
    "            j += 1\n",
    "\n",
    "    # while i < len(arr1):\n",
    "    #     arr3.append(arr1[i])\n",
    "    #     i += 1\n",
    "    # while j < len(arr2):\n",
    "    #     arr3.append(arr2[j])\n",
    "    #     j += 1\n",
    "\n",
    "    if i == len(arr1):\n",
    "        arr3 += arr2[j:]\n",
    "    else:\n",
    "        arr3 += arr1[i:]\n",
    "\n",
    "        \n",
    "    print(arr3)\n",
    "\n",
    "arr1 = [1,4,6,8]\n",
    "arr2 = [2,4,5,7]\n",
    "\n",
    "mergeArr(arr1, arr2)"
   ]
  },
  {
   "cell_type": "code",
   "execution_count": null,
   "id": "e5674fa5-b014-42b8-ab66-1186ee4d4fa9",
   "metadata": {},
   "outputs": [],
   "source": [
    "[1, 2, 4, 4, 5, 6, 7, 8]"
   ]
  },
  {
   "cell_type": "code",
   "execution_count": null,
   "id": "f97d697f-2c53-4594-adde-9cfe3ef84093",
   "metadata": {},
   "outputs": [],
   "source": []
  }
 ],
 "metadata": {
  "kernelspec": {
   "display_name": "Python 3 (ipykernel)",
   "language": "python",
   "name": "python3"
  },
  "language_info": {
   "codemirror_mode": {
    "name": "ipython",
    "version": 3
   },
   "file_extension": ".py",
   "mimetype": "text/x-python",
   "name": "python",
   "nbconvert_exporter": "python",
   "pygments_lexer": "ipython3",
   "version": "3.12.2"
  }
 },
 "nbformat": 4,
 "nbformat_minor": 5
}
