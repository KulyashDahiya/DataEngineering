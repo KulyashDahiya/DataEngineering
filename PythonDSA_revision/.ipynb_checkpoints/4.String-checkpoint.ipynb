{
 "cells": [
  {
   "cell_type": "code",
   "execution_count": 1,
   "id": "680f1d48-143b-4798-9adf-1d56cf26550f",
   "metadata": {},
   "outputs": [
    {
     "name": "stdout",
     "output_type": "stream",
     "text": [
      "135553\n"
     ]
    }
   ],
   "source": [
    "def convertFive(n):\n",
    "    # Code here\n",
    "    s = str(n)\n",
    "    s = s.replace('0', '5')\n",
    "    return int(s)\n",
    "\n",
    "\n",
    "n = 130003\n",
    "print(convertFive(n))"
   ]
  },
  {
   "cell_type": "code",
   "execution_count": 7,
   "id": "44137ec4-69d8-4c90-8cc7-5871ee46d695",
   "metadata": {},
   "outputs": [
    {
     "name": "stdout",
     "output_type": "stream",
     "text": [
      "0\n"
     ]
    }
   ],
   "source": [
    "\n",
    "def strStr(haystack, needle):\n",
    "        \"\"\"\n",
    "        :type haystack: str\n",
    "        :type needle: str\n",
    "        :rtype: int\n",
    "        \"\"\"\n",
    "        \n",
    "        if needle in haystack:\n",
    "            return haystack.index(needle)\n",
    "        else:\n",
    "            return -1\n",
    "\n",
    "haystack = \"sadbutsad\"\n",
    "needle = \"sad\"\n",
    "print(strStr(haystack, needle))"
   ]
  },
  {
   "cell_type": "code",
   "execution_count": 12,
   "id": "e8a5035f-89f0-49ea-a203-0d9a2edaecd6",
   "metadata": {},
   "outputs": [
    {
     "name": "stdout",
     "output_type": "stream",
     "text": [
      "-1\n"
     ]
    }
   ],
   "source": [
    "def strStr(haystack, needle):\n",
    "    x = -1\n",
    "    x = haystack.find(needle)\n",
    "    return x\n",
    "\n",
    "haystack = \"adbutad\"\n",
    "needle = \"sad\"\n",
    "print(strStr(haystack, needle))"
   ]
  },
  {
   "cell_type": "code",
   "execution_count": 16,
   "id": "532df5e0-57a0-42c3-b7b2-1b8eeb64fc50",
   "metadata": {},
   "outputs": [
    {
     "name": "stdout",
     "output_type": "stream",
     "text": [
      "-1\n"
     ]
    }
   ],
   "source": [
    "from re import finditer\n",
    "\n",
    "def strStr(haystack, needle):\n",
    "        \"\"\"\n",
    "        :type haystack: str\n",
    "        :type needle: str\n",
    "        :rtype: int\n",
    "        \"\"\"\n",
    "        print(haystack.find(needle))\n",
    "strStr(haystack, needle)"
   ]
  },
  {
   "cell_type": "code",
   "execution_count": 17,
   "id": "1b5e096b-f275-4756-841e-0336e9005632",
   "metadata": {},
   "outputs": [
    {
     "data": {
      "text/plain": [
       "20"
      ]
     },
     "execution_count": 17,
     "metadata": {},
     "output_type": "execute_result"
    }
   ],
   "source": [
    "def strStr(haystack, needle):\n",
    "        for i in range(len(haystack) - len(needle) + 1):\n",
    "            if haystack[i:i+len(needle)] == needle:\n",
    "                return i\n",
    "        return -1\n",
    "\n",
    "haystack = \"heytheremanhowareyouboydbutad\"\n",
    "needle = \"boy\"\n",
    "strStr(haystack, needle)"
   ]
  },
  {
   "cell_type": "code",
   "execution_count": 22,
   "id": "3bc8e5b8-c3dd-4365-aab7-6d32e26bef95",
   "metadata": {},
   "outputs": [
    {
     "name": "stdout",
     "output_type": "stream",
     "text": [
      "['flight', 'flow', 'flower']\n",
      "[('f', 'f'), ('l', 'l'), ('i', 'o'), ('g', 'w'), ('h', 'e'), ('t', 'r')]\n",
      "fl\n"
     ]
    }
   ],
   "source": [
    "def longestCommonPrefix(strs):\n",
    "    if not strs:\n",
    "        return \"\"\n",
    "\n",
    "    # Sort the list of strings to ensure the shortest string comes first\n",
    "    strs.sort()\n",
    "    print(strs)\n",
    "\n",
    "    # Compare the first and last strings (lexicographically sorted) character by character\n",
    "    prefix = \"\"\n",
    "    print(list(zip(strs[0], strs[-1])))\n",
    "    for c1, c2 in zip(strs[0], strs[-1]):\n",
    "        if c1 == c2:\n",
    "            prefix += c1\n",
    "        else:\n",
    "            break\n",
    "\n",
    "    return prefix\n",
    "\n",
    "# Example usage:\n",
    "strs = [\"flower\", \"flow\", \"flight\"]\n",
    "print(longestCommonPrefix(strs))"
   ]
  },
  {
   "cell_type": "code",
   "execution_count": null,
   "id": "0e0519d5-28e5-4c69-9f13-e422f4c3aa32",
   "metadata": {},
   "outputs": [],
   "source": [
    "def longestCommonPrefix(self, strs):\n",
    "        ans=\"\"\n",
    "        strs=sorted(strs)\n",
    "        first=strs[0]\n",
    "        last=strs[-1]\n",
    "        for i in range(min(len(first), len(last))):\n",
    "            if(first[i]!=last[i]):\n",
    "                return ans\n",
    "            ans+=first[i]\n",
    "        return ans"
   ]
  }
 ],
 "metadata": {
  "kernelspec": {
   "display_name": "Python 3 (ipykernel)",
   "language": "python",
   "name": "python3"
  },
  "language_info": {
   "codemirror_mode": {
    "name": "ipython",
    "version": 3
   },
   "file_extension": ".py",
   "mimetype": "text/x-python",
   "name": "python",
   "nbconvert_exporter": "python",
   "pygments_lexer": "ipython3",
   "version": "3.12.2"
  }
 },
 "nbformat": 4,
 "nbformat_minor": 5
}
