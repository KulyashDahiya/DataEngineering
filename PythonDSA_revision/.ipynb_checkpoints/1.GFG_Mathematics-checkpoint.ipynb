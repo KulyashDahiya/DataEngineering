{
 "cells": [
  {
   "cell_type": "code",
   "execution_count": 1,
   "id": "3a72c5a7-0ef5-4647-b1e4-6f2c6f0d918a",
   "metadata": {},
   "outputs": [
    {
     "name": "stdin",
     "output_type": "stream",
     "text": [
      " 12345\n"
     ]
    },
    {
     "name": "stdout",
     "output_type": "stream",
     "text": [
      "5\n"
     ]
    }
   ],
   "source": [
    "#Count of Digits\n",
    "\n",
    "x = int(input())\n",
    "digits = 0\n",
    "while x > 0:\n",
    "    x = x//10\n",
    "    digits += 1\n",
    "\n",
    "print(digits)"
   ]
  },
  {
   "cell_type": "code",
   "execution_count": 6,
   "id": "629b19a4-7378-4b5c-b079-b874a347892a",
   "metadata": {},
   "outputs": [
    {
     "name": "stdin",
     "output_type": "stream",
     "text": [
      " 1221\n"
     ]
    },
    {
     "name": "stdout",
     "output_type": "stream",
     "text": [
      "True\n"
     ]
    }
   ],
   "source": [
    "#Check Palindrome\n",
    "\n",
    "def isPal(n):\n",
    "    temp = n\n",
    "    rev = 0\n",
    "    while temp != 0:\n",
    "        x = temp % 10\n",
    "        rev = rev * 10 + x\n",
    "        temp = temp//10\n",
    "    return rev == n\n",
    "\n",
    "if __name__ == '__main__':\n",
    "    n = int(input())\n",
    "    print(isPal(n))"
   ]
  },
  {
   "cell_type": "code",
   "execution_count": 8,
   "id": "4c0cdb84-5e5a-4c1e-9ebc-6948a1d2bcc8",
   "metadata": {},
   "outputs": [
    {
     "name": "stdin",
     "output_type": "stream",
     "text": [
      " 5\n"
     ]
    },
    {
     "name": "stdout",
     "output_type": "stream",
     "text": [
      "120\n"
     ]
    }
   ],
   "source": [
    "#Factorial of a Number - Iterative\n",
    "\n",
    "def Factorial(n):\n",
    "    result = 1\n",
    "    for i in range(2, n+1):\n",
    "        result = result * i\n",
    "    return result\n",
    "    \n",
    "\n",
    "if __name__ == '__main__':\n",
    "    n = int(input())\n",
    "    fact = Factorial(n)\n",
    "    print(fact)\n",
    "    "
   ]
  },
  {
   "cell_type": "code",
   "execution_count": 10,
   "id": "f5a15dc1-9fa9-409c-8a41-5fbddaaa875e",
   "metadata": {},
   "outputs": [
    {
     "name": "stdin",
     "output_type": "stream",
     "text": [
      " 5\n"
     ]
    },
    {
     "name": "stdout",
     "output_type": "stream",
     "text": [
      "120\n"
     ]
    }
   ],
   "source": [
    "#Factorial of a Number - Recursive\n",
    "\n",
    "def fact_recursive(n):\n",
    "    if n == 1:\n",
    "        return 1\n",
    "    return n * fact_recursive(n-1)\n",
    "\n",
    "\n",
    "if __name__ == '__main__':\n",
    "    n = int(input())\n",
    "    fact = fact_recursive(n)\n",
    "    print(fact)"
   ]
  },
  {
   "cell_type": "code",
   "execution_count": 3,
   "id": "8f56a6d5-e0f8-4836-b2f9-556a6ef131df",
   "metadata": {},
   "outputs": [
    {
     "name": "stdin",
     "output_type": "stream",
     "text": [
      " 12 15\n"
     ]
    },
    {
     "name": "stdout",
     "output_type": "stream",
     "text": [
      "3\n"
     ]
    }
   ],
   "source": [
    "#GCD\n",
    "def gcd(a, b):\n",
    "    \n",
    "    while a != b:\n",
    "        if a > b:\n",
    "            a = a-b\n",
    "        else:\n",
    "            b = b-a\n",
    "    return a\n",
    "\n",
    "\n",
    "if __name__ == '__main__':\n",
    "    a, b = map(int, input().split())\n",
    "    print(gcd(a, b))"
   ]
  },
  {
   "cell_type": "code",
   "execution_count": 4,
   "id": "0922e203-b924-4a91-bab8-678af895fc61",
   "metadata": {},
   "outputs": [
    {
     "name": "stdin",
     "output_type": "stream",
     "text": [
      " 12 15\n"
     ]
    },
    {
     "name": "stdout",
     "output_type": "stream",
     "text": [
      "3\n"
     ]
    }
   ],
   "source": [
    "#GCD - Optimised\n",
    "def gcd_opti(a, b):\n",
    "    \n",
    "    if b == 0:\n",
    "        return a\n",
    "    return gcd_opti(b , a%b)\n",
    "\n",
    "\n",
    "if __name__ == '__main__':\n",
    "    a, b = map(int, input().split())\n",
    "    print(gcd_opti(a, b))"
   ]
  },
  {
   "cell_type": "code",
   "execution_count": 8,
   "id": "f6dc3dc0-a8b8-4260-9343-6f7f5a050cef",
   "metadata": {},
   "outputs": [
    {
     "name": "stdin",
     "output_type": "stream",
     "text": [
      " 4 6\n"
     ]
    },
    {
     "name": "stdout",
     "output_type": "stream",
     "text": [
      "12\n"
     ]
    }
   ],
   "source": [
    "#LCM - Naive Approach\n",
    "\n",
    "def lcm(a, b):\n",
    "    res = max(a,b)\n",
    "\n",
    "    while True:\n",
    "        if res%a == 0 and res%b == 0:\n",
    "            return res\n",
    "        res += 1\n",
    "        \n",
    "    return res\n",
    "\n",
    "if __name__ == '__main__':\n",
    "    a, b = map(int, input().split())\n",
    "    print(lcm(a, b))\n"
   ]
  },
  {
   "cell_type": "code",
   "execution_count": 15,
   "id": "6fbed203-475f-4aa3-afe1-d1bd3d6b48e4",
   "metadata": {},
   "outputs": [
    {
     "name": "stdout",
     "output_type": "stream",
     "text": [
      "3\n",
      "4\n",
      "5\n",
      "6\n",
      "7\n"
     ]
    }
   ],
   "source": [
    "# 6%4\n",
    "a = 2\n",
    "b = 7\n",
    "while True:\n",
    "    if a == b:\n",
    "        break\n",
    "    a += 1\n",
    "    print(a)"
   ]
  },
  {
   "cell_type": "code",
   "execution_count": 16,
   "id": "bcfbf0f5-ceba-41de-a18a-0c3bb59f5f2d",
   "metadata": {},
   "outputs": [
    {
     "name": "stdin",
     "output_type": "stream",
     "text": [
      " 4 6\n"
     ]
    },
    {
     "name": "stdout",
     "output_type": "stream",
     "text": [
      "12\n"
     ]
    }
   ],
   "source": [
    "#LCM - GCD Approach\n",
    "\n",
    "def gcd_opti(a, b):\n",
    "    \n",
    "    if b == 0:\n",
    "        return a\n",
    "    return gcd_opti(b , a%b)\n",
    "\n",
    "def lcm(a, b):\n",
    "    return (a*b) // gcd_opti(a,b)\n",
    "\n",
    "if __name__ == '__main__':\n",
    "    a, b = map(int, input().split())\n",
    "    print(lcm(a, b))\n"
   ]
  },
  {
   "cell_type": "code",
   "execution_count": 17,
   "id": "47a58674-7c49-4582-8d10-8fb0fa743942",
   "metadata": {},
   "outputs": [
    {
     "name": "stdin",
     "output_type": "stream",
     "text": [
      " 5\n"
     ]
    },
    {
     "data": {
      "text/plain": [
       "True"
      ]
     },
     "execution_count": 17,
     "metadata": {},
     "output_type": "execute_result"
    }
   ],
   "source": [
    "#Prime\n",
    "\n",
    "def isPrime(n):\n",
    "    if n == 1:\n",
    "        return False\n",
    "        \n",
    "    for i in range(2, n):\n",
    "        if n%i == 0:\n",
    "            return False\n",
    "    return True\n",
    "\n",
    "n = int(input())\n",
    "isPrime(n)"
   ]
  },
  {
   "cell_type": "code",
   "execution_count": 35,
   "id": "c611cf80-f47c-497d-8ce2-f57f345c2735",
   "metadata": {},
   "outputs": [
    {
     "name": "stdin",
     "output_type": "stream",
     "text": [
      " 101573\n"
     ]
    },
    {
     "data": {
      "text/plain": [
       "True"
      ]
     },
     "execution_count": 35,
     "metadata": {},
     "output_type": "execute_result"
    }
   ],
   "source": [
    "#Prime\n",
    "from math import sqrt\n",
    "\n",
    "def isPrime(n):\n",
    "    if n == 1:\n",
    "        return False\n",
    "        \n",
    "    for i in range(2, int(sqrt(n)) + 2):\n",
    "        if n%i == 0:\n",
    "            return False\n",
    "    return True\n",
    "\n",
    "n = int(input())\n",
    "isPrime(n)\n",
    "\n",
    "# 101573"
   ]
  },
  {
   "cell_type": "code",
   "execution_count": 41,
   "id": "3dbab028-1038-4b46-a3bf-6a727fd3e19d",
   "metadata": {},
   "outputs": [
    {
     "name": "stdin",
     "output_type": "stream",
     "text": [
      " 9999999999999999999999993\n"
     ]
    },
    {
     "data": {
      "text/plain": [
       "False"
      ]
     },
     "execution_count": 41,
     "metadata": {},
     "output_type": "execute_result"
    }
   ],
   "source": [
    "#Prime\n",
    "\n",
    "def isPrime(n):\n",
    "    if n == 1:\n",
    "        return False\n",
    "    i = 2\n",
    "    while (i*i <=n):\n",
    "        if n%i == 0:\n",
    "            return False\n",
    "        i += 1\n",
    "    return True\n",
    "\n",
    "n = int(input())\n",
    "isPrime(n)\n",
    "\n",
    "# 101573"
   ]
  },
  {
   "cell_type": "code",
   "execution_count": 45,
   "id": "145380a4-92b2-46d9-96c9-2a6a050fbd3e",
   "metadata": {
    "scrolled": true
   },
   "outputs": [
    {
     "name": "stdin",
     "output_type": "stream",
     "text": [
      " 99999999997\n"
     ]
    },
    {
     "data": {
      "text/plain": [
       "False"
      ]
     },
     "execution_count": 45,
     "metadata": {},
     "output_type": "execute_result"
    }
   ],
   "source": [
    "#Prime\n",
    "\n",
    "def isPrime(n):\n",
    "    if n == 1:\n",
    "        return False\n",
    "\n",
    "    if n == 2 or n==3:\n",
    "        return True\n",
    "\n",
    "    if n%2 == 0 or n%3 == 0:\n",
    "        return False\n",
    "    \n",
    "    i = 5\n",
    "    while (i*i <=n):\n",
    "        if n%i == 0:\n",
    "            return False\n",
    "        i += 6\n",
    "    return True\n",
    "\n",
    "n = int(input())\n",
    "isPrime(n)\n",
    "\n",
    "# 101573"
   ]
  },
  {
   "cell_type": "code",
   "execution_count": null,
   "id": "1da4aa16-21f7-4d78-8e76-688d5e4a3427",
   "metadata": {},
   "outputs": [],
   "source": []
  },
  {
   "cell_type": "code",
   "execution_count": null,
   "id": "90c9dca6-90ec-42ee-82bf-bcdf9cc893dc",
   "metadata": {},
   "outputs": [],
   "source": []
  },
  {
   "cell_type": "code",
   "execution_count": null,
   "id": "e1bfab06-8575-4f96-80cf-7d9f0d457e98",
   "metadata": {},
   "outputs": [],
   "source": []
  }
 ],
 "metadata": {
  "kernelspec": {
   "display_name": "Python 3 (ipykernel)",
   "language": "python",
   "name": "python3"
  },
  "language_info": {
   "codemirror_mode": {
    "name": "ipython",
    "version": 3
   },
   "file_extension": ".py",
   "mimetype": "text/x-python",
   "name": "python",
   "nbconvert_exporter": "python",
   "pygments_lexer": "ipython3",
   "version": "3.9.6"
  }
 },
 "nbformat": 4,
 "nbformat_minor": 5
}
