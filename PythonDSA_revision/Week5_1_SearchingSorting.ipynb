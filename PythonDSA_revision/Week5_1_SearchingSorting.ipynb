{
 "cells": [
  {
   "cell_type": "code",
   "execution_count": null,
   "id": "65efb044-6823-46d0-9b41-06d682cc4465",
   "metadata": {},
   "outputs": [],
   "source": [
    "# Linear Search\n",
    "\n",
    "def search(arr, N, x):\n",
    "\n",
    "    for i in range(0, N):\n",
    "        if (arr[i] == x):\n",
    "            return i\n",
    "    return -1\n",
    "\n",
    "\n",
    "# Driver Code\n",
    "if __name__ == \"__main__\":\n",
    "    arr = [2, 3, 4, 10, 40]\n",
    "    x = 10\n",
    "    N = len(arr)\n",
    "\n",
    "    # Function call\n",
    "    result = search(arr, N, x)\n",
    "    if(result == -1):\n",
    "        print(\"Element is not present in array\")\n",
    "    else:\n",
    "        print(\"Element is present at index\", result)"
   ]
  },
  {
   "cell_type": "code",
   "execution_count": null,
   "id": "27bbf3b3-c626-4bcd-bb81-1cbddda18161",
   "metadata": {},
   "outputs": [],
   "source": []
  },
  {
   "cell_type": "code",
   "execution_count": 24,
   "id": "2f9f04d8-ce5d-464c-85d0-de7279e6ef2d",
   "metadata": {},
   "outputs": [
    {
     "name": "stdout",
     "output_type": "stream",
     "text": [
      "Given array Sorted : [1, 6, 7, 12, 22, 23, 43, 55, 56, 234, 465]\n",
      "Element is present at index : 10\n"
     ]
    }
   ],
   "source": [
    "# Binary Search\n",
    "\n",
    "def BinarySearch(arr, x):\n",
    "    lower_bound = 0\n",
    "    upper_bound = len(arr) - 1\n",
    "    \n",
    "    while lower_bound <= upper_bound:\n",
    "        mid = (lower_bound + upper_bound) // 2\n",
    "        if arr[mid] == x:\n",
    "            return f\"Element is present at index : {arr.index(465)}\"\n",
    "        elif x < arr[mid]:\n",
    "            upper_bound = mid - 1\n",
    "        else:\n",
    "            lower_bound = mid + 1\n",
    "    \n",
    "    return \"Element Not Found in Given Array\"\n",
    "\n",
    "\n",
    "\n",
    "if __name__ == \"__main__\":\n",
    "    arr = [6,23,56,1,465,7,43,234,55,22,12]\n",
    "    x = 465\n",
    "    arr.sort()\n",
    "    print(f\"Given array Sorted : {arr}\")\n",
    "    print(BinarySearch(arr, x))\n"
   ]
  },
  {
   "cell_type": "code",
   "execution_count": 8,
   "id": "b7fbaef4-33c2-4d5b-94f2-65ba6aa40e79",
   "metadata": {},
   "outputs": [
    {
     "name": "stdout",
     "output_type": "stream",
     "text": [
      "First Occurrence = 3\n",
      "Last Occurrence = 5\n"
     ]
    }
   ],
   "source": [
    "# BINARY SEARCH\n",
    "\n",
    "# For example, if the array is as follows: [1, 2, 2, 3, 3, 3, 4, 8, 9, 19, 19, 19]\n",
    "# Try writing the code for the following two cases.\n",
    "# 1. Finding first occurrence of the given number.\n",
    "# 2. Finding the last occurrence of the given number.\n",
    "\n",
    "def first(arr, x, n):\n",
    " \n",
    "    low = 0\n",
    "    high = n - 1\n",
    "    res = -1\n",
    " \n",
    "    while (low <= high):\n",
    " \n",
    "        # Normal Binary Search Logic\n",
    "        mid = (low + high) // 2\n",
    " \n",
    "        if arr[mid] > x:\n",
    "            high = mid - 1\n",
    "        elif arr[mid] < x:\n",
    "            low = mid + 1\n",
    " \n",
    "        # If arr[mid] is same as x, we\n",
    "        # update res and move to the left\n",
    "        # half.\n",
    "        else:\n",
    "            res = mid\n",
    "            high = mid - 1\n",
    " \n",
    "    return res\n",
    " \n",
    "# If x is present in arr[] then returns\n",
    "# the index of FIRST occurrence of x in\n",
    "# arr[0..n-1], otherwise returns -1\n",
    " \n",
    " \n",
    "def last(arr, x, n):\n",
    " \n",
    "    low = 0\n",
    "    high = n - 1\n",
    "    res = -1\n",
    " \n",
    "    while(low <= high):\n",
    " \n",
    "        # Normal Binary Search Logic\n",
    "        mid = (low + high) // 2\n",
    " \n",
    "        if arr[mid] > x:\n",
    "            high = mid - 1\n",
    "        elif arr[mid] < x:\n",
    "            low = mid + 1\n",
    " \n",
    "        # If arr[mid] is same as x, we\n",
    "        # update res and move to the Right\n",
    "        # half.\n",
    "        else:\n",
    "            res = mid\n",
    "            low = mid + 1\n",
    " \n",
    "    return res\n",
    " \n",
    " \n",
    "# Driver code\n",
    "# arr = [1, 2, 2, 2, 2, 3, 4, 7, 8, 8]\n",
    "arr = [1, 2, 2, 3, 3, 3, 4, 8, 9, 19, 19, 19]\n",
    "n = len(arr)\n",
    "x = 3\n",
    " \n",
    "print(\"First Occurrence =\", first(arr, x, n))\n",
    "print(\"Last Occurrence =\", last(arr, x, n))"
   ]
  },
  {
   "cell_type": "code",
   "execution_count": 12,
   "id": "d0d45207-2704-4b63-953a-f9e8a8d1cb1d",
   "metadata": {},
   "outputs": [
    {
     "name": "stdout",
     "output_type": "stream",
     "text": [
      "Given array Sorted : [1, 6, 7, 12, 22, 23, 43, 55, 56, 234, 465]\n",
      "Element 22 Found in SORTED Array at Index: 4\n"
     ]
    }
   ],
   "source": [
    "def RecursiveBinarySearch(arr, x, l, u):\n",
    "    mid = (l+u) // 2\n",
    "\n",
    "    if x == arr[mid] :\n",
    "        return mid\n",
    "    elif x < arr[mid] :\n",
    "        return RecursiveBinarySearch(arr, x, l, mid - 1)\n",
    "    elif x > arr[mid] :\n",
    "        return RecursiveBinarySearch(arr, x, mid + 1, u)\n",
    "    else :\n",
    "        return -1\n",
    "    \n",
    "\n",
    "\n",
    "if __name__ == \"__main__\":\n",
    "    arr = [6,23,56,1,465,7,43,234,55,22,12]\n",
    "    n = len(arr)\n",
    "    x = 22\n",
    "    arr.sort()\n",
    "    print(f\"Given array Sorted : {arr}\")\n",
    "\n",
    "    res = RecursiveBinarySearch(arr, x, 0, n-1)\n",
    "    if res != -1:\n",
    "        print(f\"Element {x} Found in SORTED Array at Index: {res}\")\n",
    "    else:\n",
    "        print(\"Element not Found\")"
   ]
  },
  {
   "cell_type": "code",
   "execution_count": null,
   "id": "b9627a37-dd26-4e1b-baf7-884df5e63a8f",
   "metadata": {},
   "outputs": [],
   "source": []
  },
  {
   "cell_type": "code",
   "execution_count": 5,
   "id": "d2e02a07-c296-488a-953e-4a22f56d78c2",
   "metadata": {},
   "outputs": [
    {
     "name": "stdin",
     "output_type": "stream",
     "text": [
      " 7\n",
      " 23 65 34 76 69 11 6\n"
     ]
    },
    {
     "name": "stdout",
     "output_type": "stream",
     "text": [
      "[6, 11, 23, 34, 65, 69, 76]\n"
     ]
    }
   ],
   "source": [
    "# Selection Sort\n",
    "\n",
    "# n = 7\n",
    "# 23 65 34 76 69 11 6 \n",
    "\n",
    "def selectionSort(arr, n):\n",
    "    for i in range(n-1):\n",
    "        min_j = i\n",
    "        for j in range(i+1, n):\n",
    "            if arr[j] < arr[min_j]:\n",
    "                min_j = j\n",
    "        arr[i], arr[min_j] = arr[min_j], arr[i]\n",
    "\n",
    "    print(arr)\n",
    "\n",
    "\n",
    "n = int(input())\n",
    "arr = list(map(int, input().split()))\n",
    "# n = 5\n",
    "# arr = [5, 2, 3, 1, 4]\n",
    "selectionSort(arr, n)\n"
   ]
  },
  {
   "cell_type": "code",
   "execution_count": null,
   "id": "2812ea90-945d-4fd3-9383-1f7ec8ad5dbd",
   "metadata": {},
   "outputs": [],
   "source": []
  },
  {
   "cell_type": "code",
   "execution_count": 10,
   "id": "3fe310a2-83f5-4fa2-a60e-deca4776816f",
   "metadata": {},
   "outputs": [
    {
     "name": "stdin",
     "output_type": "stream",
     "text": [
      " 5\n",
      " 5 2 3 4 1\n"
     ]
    },
    {
     "name": "stdout",
     "output_type": "stream",
     "text": [
      "[5, 2, 3, 4, 1]\n",
      "[1, 2, 3, 4, 5]\n"
     ]
    }
   ],
   "source": [
    "#Insertion Sort\n",
    "\n",
    "def insertionSort(arr):\n",
    "    for i in range(1, n):\n",
    "        key = arr[i]\n",
    "        j = i - 1\n",
    "        while j >= 0 and key < arr[j]:\n",
    "            arr[j+1] = arr[j]\n",
    "            j -= 1\n",
    "        arr[j+1] = key\n",
    "    return arr\n",
    "\n",
    "n = int(input())\n",
    "arr = list(map(int, input().split()))\n",
    "print(arr)\n",
    "insertionSort(arr)\n",
    "print(arr)"
   ]
  },
  {
   "cell_type": "code",
   "execution_count": 19,
   "id": "0447c4e4-fe14-4a7f-a33c-3320a8d19373",
   "metadata": {},
   "outputs": [
    {
     "name": "stdout",
     "output_type": "stream",
     "text": [
      "[1, 2, 4, 4, 5, 6, 7, 8]\n"
     ]
    }
   ],
   "source": [
    "# Merge 2 sorted Arrays\n",
    "def mergeArr(arr1, arr2):\n",
    "    i = 0\n",
    "    j = 0\n",
    "    arr3 = []\n",
    "    while i < len(arr1) and j < len(arr2):\n",
    "        if arr1[i] < arr2[j]:\n",
    "            arr3.append(arr1[i])\n",
    "            i += 1\n",
    "        elif arr1[i] > arr2[j]:\n",
    "            arr3.append(arr2[j])\n",
    "            j += 1\n",
    "        else:\n",
    "            arr3.append(arr2[j])\n",
    "            j += 1\n",
    "    # while i < len(arr1):\n",
    "    #     arr3.append(arr1[i])\n",
    "    #     i += 1\n",
    "    # while j < len(arr2):\n",
    "    #     arr3.append(arr2[j])\n",
    "    #     j += 1\n",
    "    if i == len(arr1):\n",
    "        arr3 += arr2[j:]\n",
    "    else:\n",
    "        arr3 += arr1[i:]\n",
    "\n",
    "    print(arr3)\n",
    "arr1 = [1,4,6,8]\n",
    "arr2 = [2,4,5,7]\n",
    "\n",
    "mergeArr(arr1, arr2)"
   ]
  },
  {
   "cell_type": "code",
   "execution_count": null,
   "id": "e5674fa5-b014-42b8-ab66-1186ee4d4fa9",
   "metadata": {},
   "outputs": [],
   "source": [
    "[1, 2, 4, 4, 5, 6, 7, 8]"
   ]
  },
  {
   "cell_type": "code",
   "execution_count": null,
   "id": "f97d697f-2c53-4594-adde-9cfe3ef84093",
   "metadata": {},
   "outputs": [],
   "source": []
  },
  {
   "cell_type": "code",
   "execution_count": 20,
   "id": "c0f84d75-55bf-436f-a3e5-66231f2370cc",
   "metadata": {},
   "outputs": [
    {
     "name": "stdin",
     "output_type": "stream",
     "text": [
      " 4 1 0 34 01 3 0 123 0 44\n"
     ]
    },
    {
     "name": "stdout",
     "output_type": "stream",
     "text": [
      "[4, 1, 34, 1, 3, 123, 44, 0, 0, 0]\n"
     ]
    }
   ],
   "source": [
    "# ASSIGNGMENT\n",
    "\n",
    "\n",
    "# Push zeroes to end and maintain order of non-zero elements\n",
    "\n",
    "# --- Naive BruteForce Approach\n",
    "\n",
    "def zeroesToEnd_N(n: int, arr: list) -> list:\n",
    "    arr2 = []\n",
    "    for i in range(n):\n",
    "        if arr[i] != 0:\n",
    "            arr2.append(arr[i])\n",
    "\n",
    "    nz = len(arr2)\n",
    "\n",
    "    for i in range(nz):\n",
    "        arr[i] = arr2[i]\n",
    "    \n",
    "    for i in range(nz, n):\n",
    "        arr[i] = 0\n",
    "\n",
    "    return arr\n",
    "\n",
    "def zeroesToEnd_TwoPointer(n: int, arr: list) -> list:\n",
    "    j = -1\n",
    "    for i in range(n):\n",
    "        if arr[i] == 0:\n",
    "            j = i\n",
    "            break\n",
    "\n",
    "    if j == -1:\n",
    "        return\n",
    "            \n",
    "    for i in range(j+1, n):\n",
    "        if arr[i] != 0:\n",
    "            arr[i], arr[j] = arr[j], arr[i]\n",
    "            j += 1\n",
    "            \n",
    "    return arr\n",
    "\n",
    "\n",
    "arr = list(map(int, input().split()))\n",
    "n = len(arr)\n",
    "print(zeroesToEnd_TwoPointer(n, arr))\n",
    "# print(zeroesToEnd_N(n, arr))"
   ]
  }
 ],
 "metadata": {
  "kernelspec": {
   "display_name": "Python 3 (ipykernel)",
   "language": "python",
   "name": "python3"
  },
  "language_info": {
   "codemirror_mode": {
    "name": "ipython",
    "version": 3
   },
   "file_extension": ".py",
   "mimetype": "text/x-python",
   "name": "python",
   "nbconvert_exporter": "python",
   "pygments_lexer": "ipython3",
   "version": "3.12.2"
  }
 },
 "nbformat": 4,
 "nbformat_minor": 5
}
