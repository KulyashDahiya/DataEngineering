{
 "cells": [
  {
   "cell_type": "code",
   "execution_count": 1,
   "id": "665db8be-f70c-4d0a-ba30-6ef29453a367",
   "metadata": {},
   "outputs": [
    {
     "name": "stdout",
     "output_type": "stream",
     "text": [
      "[10, 20, 30, 40, 50]\n",
      "40\n",
      "20\n",
      "50\n",
      "40\n"
     ]
    }
   ],
   "source": [
    "l = [10, 20, 30, 40, 50]\n",
    "print(l)\n",
    "print(l[3])\n",
    "print(l[1])\n",
    "print(l[-1])\n",
    "print(l[-2])"
   ]
  },
  {
   "cell_type": "code",
   "execution_count": 2,
   "id": "63300c65-6037-415e-a339-45143ef8ba2b",
   "metadata": {},
   "outputs": [
    {
     "name": "stdout",
     "output_type": "stream",
     "text": [
      "[10, 20, 30, 40, 50, 30]\n",
      "[10, 15, 20, 30, 40, 50, 30]\n",
      "True\n",
      "2\n",
      "3\n"
     ]
    }
   ],
   "source": [
    "l = [10, 20, 30, 40, 50]\n",
    "l.append(30)\n",
    "print(l)\n",
    "l.insert(1, 15)\n",
    "print(l)\n",
    "print(15 in l)\n",
    "print(l.count(30))\n",
    "print(l.index(30))"
   ]
  },
  {
   "cell_type": "code",
   "execution_count": 3,
   "id": "3fd00aa1-4481-4cc2-82eb-3d1087b71f2d",
   "metadata": {},
   "outputs": [
    {
     "name": "stdout",
     "output_type": "stream",
     "text": [
      "[10, 30, 40, 50, 60, 70, 80]\n",
      "80\n",
      "[10, 30, 40, 50, 60, 70]\n",
      "40\n",
      "[10, 30, 50, 60, 70]\n",
      "[10, 50, 60, 70]\n",
      "[60, 70]\n"
     ]
    }
   ],
   "source": [
    "l = [10, 20, 30, 40, 50, 60, 70, 80]\n",
    "l.remove(20) # .remove  only  remove the value.\n",
    "print(l)\n",
    "print(l.pop()) # .pop return the removal item as output\n",
    "print(l)\n",
    "print(l.pop(2))\n",
    "print(l)\n",
    "del l[1]\n",
    "print(l)\n",
    "del l[0:2]\n",
    "print(l)"
   ]
  },
  {
   "cell_type": "code",
   "execution_count": 4,
   "id": "00dd2508-1cd5-49fa-85e8-50b93f98a90c",
   "metadata": {},
   "outputs": [
    {
     "name": "stdout",
     "output_type": "stream",
     "text": [
      "50\n",
      "10\n",
      "120\n",
      "[50, 20, 40, 10]\n",
      "[10, 20, 40, 50]\n"
     ]
    }
   ],
   "source": [
    "l=[10,40,20,50]\n",
    "print(max(l))\n",
    "print(min(l))\n",
    "print(sum(l))\n",
    "l.reverse()\n",
    "print(l)\n",
    "l.sort()\n",
    "print(l)"
   ]
  },
  {
   "cell_type": "code",
   "execution_count": null,
   "id": "c2a13d1f-76fe-4b3d-afcd-cac489997588",
   "metadata": {},
   "outputs": [],
   "source": []
  },
  {
   "cell_type": "code",
   "execution_count": 5,
   "id": "097ebd23-ac46-4693-a8b3-67f52271e31c",
   "metadata": {},
   "outputs": [
    {
     "name": "stdout",
     "output_type": "stream",
     "text": [
      "False\n",
      "True\n",
      "True\n"
     ]
    }
   ],
   "source": [
    "l1 = [10,20,30]\n",
    "l2 = l1[:]\n",
    "t1 = (10,20,30)\n",
    "t2 = t1[:]          # tuple having same element has same id\n",
    "s1 = \"geeks\"\n",
    "s2 = s1[:]          # string of same value have same id\n",
    "\n",
    "print(l1 is l2)\n",
    "print(t1 is t2)\n",
    "print(s1 is s2)"
   ]
  },
  {
   "cell_type": "code",
   "execution_count": 6,
   "id": "4f24c2fd-5108-4fb8-abe2-9a339b44f1f1",
   "metadata": {},
   "outputs": [
    {
     "name": "stdout",
     "output_type": "stream",
     "text": [
      "l[0:5:2] [10, 30, 50]\n",
      "l[:4] [10, 20, 30, 40]\n",
      "l[2:] [30, 40, 50]\n",
      "l[1:4] [20, 30, 40]\n",
      "l[4:1:-1] [50, 40, 30]\n",
      "l[-1:-6:-1] [50, 40, 30, 20, 10]\n",
      "l[::-1] [50, 40, 30, 20, 10]\n",
      "l[0:5] [10, 20, 30, 40, 50]\n",
      "l[:] [10, 20, 30, 40, 50]\n"
     ]
    }
   ],
   "source": [
    "l = [10,20,30,40,50]\n",
    "\n",
    "print(\"l[0:5:2]\",l[0:5:2])     # start:0, stop:5, step:2\n",
    "print(\"l[:4]\",l[:4])        # start: 0, stop:4, step:1\n",
    "print(\"l[2:]\",l[2:])        # start:2,  stop:end of string, step:1\n",
    "print(\"l[1:4]\",l[1:4])\n",
    "print(\"l[4:1:-1]\",l[4:1:-1])    #start:4, stop:1,step:-1\n",
    "print(\"l[-1:-6:-1]\",l[-1:-6:-1])  # start:end,\n",
    "print(\"l[::-1]\",l[::-1])\n",
    "print(\"l[0:5]\",l[0:5])\n",
    "print(\"l[:]\",l[:])"
   ]
  },
  {
   "cell_type": "code",
   "execution_count": null,
   "id": "9c76ca0d-9a17-4eef-93c8-7f92318926e0",
   "metadata": {},
   "outputs": [],
   "source": []
  },
  {
   "cell_type": "code",
   "execution_count": 7,
   "id": "2d01d524-60e5-4f38-9e8d-9f9bb6a0c81b",
   "metadata": {},
   "outputs": [
    {
     "name": "stdin",
     "output_type": "stream",
     "text": [
      " 8 6 4 23 54 77 4 222254 9999 74 65 323564945 321548231\n"
     ]
    },
    {
     "name": "stdout",
     "output_type": "stream",
     "text": [
      "323564945\n"
     ]
    }
   ],
   "source": [
    "#Largest Element in a List\n",
    "\n",
    "def getMax(l):\n",
    "    for x in l:         # iterate for each element\n",
    "        for y in l:     # iterrate to compare with each element\n",
    "            if y > x:\n",
    "                break\n",
    "        else:           # if loop is exited naturally, no larger element found\n",
    "            return x\n",
    "    return None\n",
    "\n",
    "# O(n2)\n",
    "\n",
    "\n",
    "\n",
    "\n",
    "l = [int(x) for x in input().split()]\n",
    "print(getMax(l))"
   ]
  },
  {
   "cell_type": "code",
   "execution_count": null,
   "id": "3f8b372f-59b5-4073-8f5d-1540b3b12643",
   "metadata": {},
   "outputs": [],
   "source": [
    "def getMax(l):\n",
    "    if not l:\n",
    "        return None\n",
    "    else:\n",
    "\n",
    "        res = l[0]                  # assume l[0] is the max\n",
    "        for i in range(1, len(l)):  # iterate through index 1 to last\n",
    "            if l[i] > res:           # check whether current element is greater than res\n",
    "                res = l[i]          # if current element is greater than res ,update res to current\n",
    "        return res\n",
    "\n",
    "# O(n)\n",
    "\n",
    "l = [int(x) for x in input().split()]\n",
    "print(getMax(l))"
   ]
  },
  {
   "cell_type": "code",
   "execution_count": null,
   "id": "61c4e0c7-12cc-4f6f-9710-a46a28eb6968",
   "metadata": {},
   "outputs": [],
   "source": []
  },
  {
   "cell_type": "code",
   "execution_count": null,
   "id": "4ec64b5a-0a16-416c-a377-c89c1f84b48d",
   "metadata": {},
   "outputs": [],
   "source": [
    "#Reverse a List\n",
    "\n",
    "def reverseList(l):\n",
    "    s = 0\n",
    "    e = len(l) - 1\n",
    "\n",
    "    while s < e:\n",
    "        l[s], l[e] = l[e], l[s] # swapping left element to right and right element to left\n",
    "        s = s + 1\n",
    "        e = e - 1\n",
    "\n",
    "\n",
    "\n",
    "l = [int(x) for x in input().split(',')]\n",
    "reverseList(l)\n",
    "print(l)"
   ]
  },
  {
   "cell_type": "code",
   "execution_count": null,
   "id": "acefcb32-27d7-4123-b400-82f01c8db55a",
   "metadata": {},
   "outputs": [],
   "source": [
    "l = [10,20,30]\n",
    "l.reverse()     # reverse given list\n",
    "print(l)\n",
    "\n",
    "l = [10,20,30]\n",
    "new_l = list(reversed(l))   # return new reversed list\n",
    "print(new_l)\n",
    "\n",
    "l = [10,20,30]\n",
    "new_l = l[::-1]             # return new reversed list\n",
    "print(new_l)"
   ]
  },
  {
   "cell_type": "code",
   "execution_count": null,
   "id": "a53e6f1c-46f9-46fd-a469-376c36bd60ab",
   "metadata": {},
   "outputs": [],
   "source": []
  },
  {
   "cell_type": "code",
   "execution_count": 8,
   "id": "6e9138ea-605c-486a-859f-3f6964f16b66",
   "metadata": {},
   "outputs": [
    {
     "name": "stdout",
     "output_type": "stream",
     "text": [
      "[10, 20, 30, 50]\n"
     ]
    }
   ],
   "source": [
    "## Remove Duplicate Elements from the Sorted Array -- Efficient Approach (Only work for Sorted Array)\n",
    "\n",
    "def Remove_Duplicate(Input_List, N):\n",
    "  if N == 0:\n",
    "    return Input_List # Return the original array if it's empty\n",
    "\n",
    "  res = 1\n",
    "  for i in range(1, N):\n",
    "    if (Input_List[res - 1] != Input_List[i]):\n",
    "      Input_List[res] = Input_List[i]\n",
    "      res += 1\n",
    "  return Input_List[: res] # Return the portion of the array containing unique elements\n",
    "\n",
    "Input_List = [10, 20, 20, 30, 50]\n",
    "N = len(Input_List)\n",
    "print(Remove_Duplicate(Input_List, N))"
   ]
  },
  {
   "cell_type": "code",
   "execution_count": 13,
   "id": "0186cc73-36e4-4687-abcd-07ebb02bd949",
   "metadata": {},
   "outputs": [
    {
     "name": "stdin",
     "output_type": "stream",
     "text": [
      " 1 1 2 2 3 3 4 4 4 4 5\n",
      " 4 5\n"
     ]
    },
    {
     "name": "stdout",
     "output_type": "stream",
     "text": [
      "4\n"
     ]
    }
   ],
   "source": [
    "#User function Template for python3\n",
    "\n",
    "class Solution:\n",
    "    #Function to find element with more appearances between two elements in an array.    \n",
    "    def majorityWins(self, arr, n, x, y):\n",
    "        if arr.count(x) > arr.count(y): return x\n",
    "        elif arr.count(y) > arr.count(x): return y\n",
    "        else: return min(x,y)\n",
    "\n",
    "\n",
    "if __name__ == '__main__':\n",
    "        arr=[int(x) for x in input().strip().split()]\n",
    "        n=len(arr)\n",
    "        x,y=map(int,input().strip().split())\n",
    "        \n",
    "        print(Solution().majorityWins(arr,n,x,y))\n",
    "\n",
    "# } Driver Code Ends\n",
    "    "
   ]
  },
  {
   "cell_type": "code",
   "execution_count": 16,
   "id": "594d876e-70db-4a3a-925f-e900bf287a3a",
   "metadata": {},
   "outputs": [
    {
     "name": "stdin",
     "output_type": "stream",
     "text": [
      " 2\n",
      " 1 2 3 4 5\n"
     ]
    },
    {
     "name": "stdout",
     "output_type": "stream",
     "text": [
      "3 4 5 1 2 "
     ]
    }
   ],
   "source": [
    "#Rotate Array\n",
    "\n",
    "# Given an unsorted array arr[] of size N. Rotate the array \n",
    "# to the left (counter-clockwise direction) by D steps, where D is a positive integer\n",
    "\n",
    "import math\n",
    "\n",
    "def rotateArr(A,D,N):\n",
    "    return A[D:] + A[:D]\n",
    "        \n",
    "\n",
    "if __name__==\"__main__\":\n",
    "        D = int(input())\n",
    "        A=[int(x) for x in input().strip().split()]\n",
    "        N = len(A)\n",
    "        A = rotateArr(A,D,N)\n",
    "        \n",
    "        for i in A:\n",
    "            print(i,end=\" \")\n"
   ]
  },
  {
   "cell_type": "code",
   "execution_count": 29,
   "id": "8a209651-5297-4bd9-832d-af4e4e5c2f8f",
   "metadata": {},
   "outputs": [
    {
     "name": "stdin",
     "output_type": "stream",
     "text": [
      " 3 5 1 2 8 9 55 4 322 42\n"
     ]
    },
    {
     "name": "stdout",
     "output_type": "stream",
     "text": [
      "1 2 3 4 5 8 9 42 "
     ]
    }
   ],
   "source": [
    "#At least two greater elements\n",
    "\n",
    "# Given an array of N distinct elements, the task is to find all  \n",
    "# elements in array except two greatest elements in sorted order.\n",
    "\n",
    "def findElements(a, n):\n",
    "    a.sort()\n",
    "    return a[:n-2]\n",
    "        \n",
    "        \n",
    "\n",
    "if __name__==\"__main__\":\n",
    "        a=[int(x) for x in input().strip().split()]\n",
    "        n = len(a)\n",
    "        el = findElements(a, n)\n",
    "        \n",
    "        for i in el:\n",
    "            print(i,end=\" \")\n"
   ]
  },
  {
   "cell_type": "code",
   "execution_count": 35,
   "id": "28bf9643-4386-41b6-9a07-cc1bde1c2983",
   "metadata": {},
   "outputs": [
    {
     "name": "stdin",
     "output_type": "stream",
     "text": [
      " 15 2 45 12 7\n"
     ]
    },
    {
     "name": "stdout",
     "output_type": "stream",
     "text": [
      "2 \n"
     ]
    }
   ],
   "source": [
    "def valueEqualToIndex(arr, n):\n",
    "    ans = []\n",
    "    for i in range(n):\n",
    "        if arr[i] == i+1:\n",
    "            ans.append(arr[i])\n",
    "    return ans\n",
    "    \n",
    "\n",
    "\n",
    "\n",
    "if __name__ == '__main__':\n",
    "    arr = list(map(int, input().strip().split()))\n",
    "    n = len(arr)\n",
    "    ans = valueEqualToIndex(arr, n)\n",
    "    if len(ans) == 0:\n",
    "        print(\"Not Found\")\n",
    "    else:\n",
    "        for x in ans:\n",
    "            print(x, end=\" \")\n",
    "        print()"
   ]
  },
  {
   "cell_type": "code",
   "execution_count": 39,
   "id": "d5ed8227-cbe2-4de9-aca3-5c407f234cd8",
   "metadata": {},
   "outputs": [],
   "source": [
    "def pivotIndex(self, nums):\n",
    "        for i in range(len(nums)):\n",
    "            if sum(nums[:i]) == sum(nums[i+1:]):\n",
    "                return i\n",
    "        return -1"
   ]
  },
  {
   "cell_type": "code",
   "execution_count": 44,
   "id": "99362167-0593-447d-b310-b586e84733a6",
   "metadata": {},
   "outputs": [
    {
     "name": "stdout",
     "output_type": "stream",
     "text": [
      "135553\n"
     ]
    }
   ],
   "source": [
    "# https://www.geeksforgeeks.org/type-array-maximum-element/\n",
    "\n",
    "def maxNtype(self , arr, n):\n",
    "        #code here.\n",
    "        min_el = sys.maxsize\n",
    "        max_el = -sys.maxsize\n",
    "        min_index1, min_index2, max_index1, max_index2 = -1,-1,-1,-1\n",
    "        \n",
    "        for i in range(n):\n",
    "            if arr[i] < min_el:\n",
    "                min_el = arr[i]\n",
    "                min_index1 = i\n",
    "                min_index2 = i\n",
    "            elif arr[i] == min_el:\n",
    "                min_index2 = i\n",
    "                \n",
    "            if arr[i] > max_el:\n",
    "                max_el = arr[i]\n",
    "                max_index1 = i\n",
    "                max_index2 = i\n",
    "            elif arr[i] == max_el:\n",
    "                max_index2 = i\n",
    "                \n",
    "        if min_index1 == 0 and max_index2 == n-1:\n",
    "            return 1, arr[n-1]\n",
    "        elif max_index1 == 0 and min_index2 == n-1:\n",
    "            return 2, arr[0]\n",
    "        elif max_index1 == min_index2 + 1:\n",
    "            return 3, arr[max_index1]\n",
    "        else:\n",
    "            return 4, arr[max_index1]"
   ]
  },
  {
   "cell_type": "code",
   "execution_count": 4,
   "id": "cd16c2c2-ceac-444a-addf-f92d2e815cfa",
   "metadata": {},
   "outputs": [
    {
     "name": "stdout",
     "output_type": "stream",
     "text": [
      "[4, 3, 2, 2]\n"
     ]
    }
   ],
   "source": [
    "def plusOne(digits):\n",
    "    d1 = list(map(str, digits))\n",
    "    a = ''\n",
    "    for i in d1:\n",
    "        a = a + i\n",
    "    a = str(int(a) + 1)\n",
    "    d2 = [int(i) for i in a]\n",
    "    print(d2)\n",
    "\n",
    "digits = [4,3,2,1]\n",
    "plusOne(digits)"
   ]
  },
  {
   "cell_type": "code",
   "execution_count": 5,
   "id": "afa5668d-690e-42f5-85e2-820930096871",
   "metadata": {},
   "outputs": [
    {
     "name": "stdout",
     "output_type": "stream",
     "text": [
      "[4, 3, 2, 2]\n"
     ]
    }
   ],
   "source": [
    "def plusOne(digits):\n",
    "    num = str(int(''.join(map(str, digits))) + 1)\n",
    "    return [int(i) for i in num]\n",
    "\n",
    "digits = [4,3,2,1]\n",
    "print(plusOne(digits))"
   ]
  }
 ],
 "metadata": {
  "kernelspec": {
   "display_name": "Python 3 (ipykernel)",
   "language": "python",
   "name": "python3"
  },
  "language_info": {
   "codemirror_mode": {
    "name": "ipython",
    "version": 3
   },
   "file_extension": ".py",
   "mimetype": "text/x-python",
   "name": "python",
   "nbconvert_exporter": "python",
   "pygments_lexer": "ipython3",
   "version": "3.12.2"
  }
 },
 "nbformat": 4,
 "nbformat_minor": 5
}
