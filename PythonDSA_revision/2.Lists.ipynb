{
 "cells": [
  {
   "cell_type": "code",
   "execution_count": 1,
   "id": "665db8be-f70c-4d0a-ba30-6ef29453a367",
   "metadata": {},
   "outputs": [
    {
     "name": "stdout",
     "output_type": "stream",
     "text": [
      "[10, 20, 30, 40, 50]\n",
      "40\n",
      "20\n",
      "50\n",
      "40\n"
     ]
    }
   ],
   "source": [
    "l = [10, 20, 30, 40, 50]\n",
    "print(l)\n",
    "print(l[3])\n",
    "print(l[1])\n",
    "print(l[-1])\n",
    "print(l[-2])"
   ]
  },
  {
   "cell_type": "code",
   "execution_count": 2,
   "id": "63300c65-6037-415e-a339-45143ef8ba2b",
   "metadata": {},
   "outputs": [
    {
     "name": "stdout",
     "output_type": "stream",
     "text": [
      "[10, 20, 30, 40, 50, 30]\n",
      "[10, 15, 20, 30, 40, 50, 30]\n",
      "True\n",
      "2\n",
      "3\n"
     ]
    }
   ],
   "source": [
    "l = [10, 20, 30, 40, 50]\n",
    "l.append(30)\n",
    "print(l)\n",
    "l.insert(1, 15)\n",
    "print(l)\n",
    "print(15 in l)\n",
    "print(l.count(30))\n",
    "print(l.index(30))"
   ]
  },
  {
   "cell_type": "code",
   "execution_count": 3,
   "id": "3fd00aa1-4481-4cc2-82eb-3d1087b71f2d",
   "metadata": {},
   "outputs": [
    {
     "name": "stdout",
     "output_type": "stream",
     "text": [
      "[10, 30, 40, 50, 60, 70, 80]\n",
      "80\n",
      "[10, 30, 40, 50, 60, 70]\n",
      "40\n",
      "[10, 30, 50, 60, 70]\n",
      "[10, 50, 60, 70]\n",
      "[60, 70]\n"
     ]
    }
   ],
   "source": [
    "l = [10, 20, 30, 40, 50, 60, 70, 80]\n",
    "l.remove(20) # .remove  only  remove the value.\n",
    "print(l)\n",
    "print(l.pop()) # .pop return the removal item as output\n",
    "print(l)\n",
    "print(l.pop(2))\n",
    "print(l)\n",
    "del l[1]\n",
    "print(l)\n",
    "del l[0:2]\n",
    "print(l)"
   ]
  },
  {
   "cell_type": "code",
   "execution_count": 4,
   "id": "00dd2508-1cd5-49fa-85e8-50b93f98a90c",
   "metadata": {},
   "outputs": [
    {
     "name": "stdout",
     "output_type": "stream",
     "text": [
      "50\n",
      "10\n",
      "120\n",
      "[50, 20, 40, 10]\n",
      "[10, 20, 40, 50]\n"
     ]
    }
   ],
   "source": [
    "l=[10,40,20,50]\n",
    "print(max(l))\n",
    "print(min(l))\n",
    "print(sum(l))\n",
    "l.reverse()\n",
    "print(l)\n",
    "l.sort()\n",
    "print(l)"
   ]
  },
  {
   "cell_type": "code",
   "execution_count": null,
   "id": "c2a13d1f-76fe-4b3d-afcd-cac489997588",
   "metadata": {},
   "outputs": [],
   "source": []
  },
  {
   "cell_type": "code",
   "execution_count": 5,
   "id": "097ebd23-ac46-4693-a8b3-67f52271e31c",
   "metadata": {},
   "outputs": [
    {
     "name": "stdout",
     "output_type": "stream",
     "text": [
      "False\n",
      "True\n",
      "True\n"
     ]
    }
   ],
   "source": [
    "l1 = [10,20,30]\n",
    "l2 = l1[:]\n",
    "t1 = (10,20,30)\n",
    "t2 = t1[:]          # tuple having same element has same id\n",
    "s1 = \"geeks\"\n",
    "s2 = s1[:]          # string of same value have same id\n",
    "\n",
    "print(l1 is l2)\n",
    "print(t1 is t2)\n",
    "print(s1 is s2)"
   ]
  },
  {
   "cell_type": "code",
   "execution_count": 6,
   "id": "4f24c2fd-5108-4fb8-abe2-9a339b44f1f1",
   "metadata": {},
   "outputs": [
    {
     "name": "stdout",
     "output_type": "stream",
     "text": [
      "l[0:5:2] [10, 30, 50]\n",
      "l[:4] [10, 20, 30, 40]\n",
      "l[2:] [30, 40, 50]\n",
      "l[1:4] [20, 30, 40]\n",
      "l[4:1:-1] [50, 40, 30]\n",
      "l[-1:-6:-1] [50, 40, 30, 20, 10]\n",
      "l[::-1] [50, 40, 30, 20, 10]\n",
      "l[0:5] [10, 20, 30, 40, 50]\n",
      "l[:] [10, 20, 30, 40, 50]\n"
     ]
    }
   ],
   "source": [
    "l = [10,20,30,40,50]\n",
    "\n",
    "print(\"l[0:5:2]\",l[0:5:2])     # start:0, stop:5, step:2\n",
    "print(\"l[:4]\",l[:4])        # start: 0, stop:4, step:1\n",
    "print(\"l[2:]\",l[2:])        # start:2,  stop:end of string, step:1\n",
    "print(\"l[1:4]\",l[1:4])\n",
    "print(\"l[4:1:-1]\",l[4:1:-1])    #start:4, stop:1,step:-1\n",
    "print(\"l[-1:-6:-1]\",l[-1:-6:-1])  # start:end,\n",
    "print(\"l[::-1]\",l[::-1])\n",
    "print(\"l[0:5]\",l[0:5])\n",
    "print(\"l[:]\",l[:])"
   ]
  },
  {
   "cell_type": "code",
   "execution_count": null,
   "id": "9c76ca0d-9a17-4eef-93c8-7f92318926e0",
   "metadata": {},
   "outputs": [],
   "source": []
  }
 ],
 "metadata": {
  "kernelspec": {
   "display_name": "Python 3 (ipykernel)",
   "language": "python",
   "name": "python3"
  },
  "language_info": {
   "codemirror_mode": {
    "name": "ipython",
    "version": 3
   },
   "file_extension": ".py",
   "mimetype": "text/x-python",
   "name": "python",
   "nbconvert_exporter": "python",
   "pygments_lexer": "ipython3",
   "version": "3.12.2"
  }
 },
 "nbformat": 4,
 "nbformat_minor": 5
}
