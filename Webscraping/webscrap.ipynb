{
 "cells": [
  {
   "cell_type": "code",
   "execution_count": 21,
   "id": "3f46b499",
   "metadata": {},
   "outputs": [],
   "source": [
    "from bs4 import BeautifulSoup\n",
    "import requests\n",
    "import pandas as pd\n",
    "import numpy as np"
   ]
  },
  {
   "cell_type": "code",
   "execution_count": 22,
   "id": "12284eac",
   "metadata": {},
   "outputs": [],
   "source": [
    "URL = \"https://www.amazon.in/s?k=playstation+5&crid=2FR0CDCP22VOP&sprefix=pla%2Caps%2C407&ref=nb_sb_ss_ts-doa-p_1_3\""
   ]
  },
  {
   "cell_type": "code",
   "execution_count": 23,
   "id": "11416eba",
   "metadata": {},
   "outputs": [],
   "source": [
    "HEADERS = ({'User-Agent':'Mozilla/5.0 (Macintosh; Intel Mac OS X 10_15_7) AppleWebKit/537.36 (KHTML, like Gecko) Chrome/110.0.0.0 Safari/537.36', 'Accept-Language': 'en-US, en;q=0.5'})"
   ]
  },
  {
   "cell_type": "code",
   "execution_count": 24,
   "id": "07688bde",
   "metadata": {},
   "outputs": [],
   "source": [
    "webpage = requests.get(URL, headers=HEADERS)"
   ]
  },
  {
   "cell_type": "code",
   "execution_count": 31,
   "id": "a0ea9faf",
   "metadata": {},
   "outputs": [],
   "source": [
    "soup = BeautifulSoup(webpage.content, \"html.parser\")"
   ]
  },
  {
   "cell_type": "code",
   "execution_count": 33,
   "id": "1c520e6b",
   "metadata": {},
   "outputs": [],
   "source": [
    "links = soup.find_all(\"a\", attrs = {'class':'a-link-normal s-underline-text s-underline-link-text s-link-style a-text-normal'})"
   ]
  },
  {
   "cell_type": "code",
   "execution_count": 37,
   "id": "707d9ffa",
   "metadata": {},
   "outputs": [],
   "source": [
    "link = links[0].get('href')"
   ]
  },
  {
   "cell_type": "code",
   "execution_count": 38,
   "id": "2c891f68",
   "metadata": {},
   "outputs": [],
   "source": [
    "product_list = \"https://amazon.in\" + link"
   ]
  },
  {
   "cell_type": "code",
   "execution_count": 41,
   "id": "099d6db9",
   "metadata": {},
   "outputs": [],
   "source": [
    "new_webpage = requests.get(product_list , headers=HEADERS)"
   ]
  },
  {
   "cell_type": "code",
   "execution_count": 43,
   "id": "7459bd41",
   "metadata": {},
   "outputs": [],
   "source": [
    "new_soup = BeautifulSoup(new_webpage.content, \"html.parser\")"
   ]
  },
  {
   "cell_type": "code",
   "execution_count": 46,
   "id": "816746bf",
   "metadata": {},
   "outputs": [
    {
     "data": {
      "text/plain": [
       "'The Last Of Us : Part 1 | PS5 Game (PlayStation 5)'"
      ]
     },
     "execution_count": 46,
     "metadata": {},
     "output_type": "execute_result"
    }
   ],
   "source": [
    "new_soup.find(\"span\", attrs={'id':'productTitle'}).text.strip()"
   ]
  },
  {
   "cell_type": "code",
   "execution_count": 52,
   "id": "2646f12b",
   "metadata": {},
   "outputs": [
    {
     "data": {
      "text/plain": [
       "'3,199.'"
      ]
     },
     "execution_count": 52,
     "metadata": {},
     "output_type": "execute_result"
    }
   ],
   "source": [
    "new_soup.find(\"span\", attrs={'class':'a-price-whole'}).text.strip()"
   ]
  },
  {
   "cell_type": "code",
   "execution_count": 48,
   "id": "0ccdb6bf",
   "metadata": {},
   "outputs": [
    {
     "data": {
      "text/plain": [
       "'4.7 out of 5 stars'"
      ]
     },
     "execution_count": 48,
     "metadata": {},
     "output_type": "execute_result"
    }
   ],
   "source": [
    "new_soup.find(\"span\", attrs={'class':'a-icon-alt'}).text.strip()"
   ]
  },
  {
   "cell_type": "code",
   "execution_count": null,
   "id": "1bde2a34",
   "metadata": {},
   "outputs": [],
   "source": []
  }
 ],
 "metadata": {
  "kernelspec": {
   "display_name": "Python 3 (ipykernel)",
   "language": "python",
   "name": "python3"
  },
  "language_info": {
   "codemirror_mode": {
    "name": "ipython",
    "version": 3
   },
   "file_extension": ".py",
   "mimetype": "text/x-python",
   "name": "python",
   "nbconvert_exporter": "python",
   "pygments_lexer": "ipython3",
   "version": "3.11.1"
  }
 },
 "nbformat": 4,
 "nbformat_minor": 5
}
